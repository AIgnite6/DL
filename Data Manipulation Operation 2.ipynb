{
 "cells": [
  {
   "cell_type": "markdown",
   "id": "bd384fd1",
   "metadata": {},
   "source": [
    "# <div style=\"text-align: center; font-size: 20px;\">Experiment No. 2</div>\n",
    "\n",
    "## <span style=\"font-size: 15px;\">Title:  Data Manipulation (Numpy library) Operations Broadcasting Indexing and slicing</span>\n",
    "\n",
    "## <span style=\"font-size: 15px;\">Aim:  Data Manipulation (Numpy library) Operations Broadcasting Indexing and slicing</span>\n",
    "\n",
    "## <span style=\"font-size: 15px;\">Theory:</span>"
   ]
  },
  {
   "cell_type": "markdown",
   "id": "509e231d-b173-4cb9-98c1-125e2c9555b2",
   "metadata": {},
   "source": [
    "# Numpy"
   ]
  },
  {
   "cell_type": "markdown",
   "id": "2bcb1f6b-d5b0-4875-ab55-273844e0df2f",
   "metadata": {},
   "source": [
    "<style>\n",
    "    .font12 { font-size: 12px; }\n",
    "</style>\n",
    "\n",
    "<div class=\"font12\">\n",
    "\n",
    "### What is NumPy?\n",
    "\n",
    "NumPy (Numerical Python) is a powerful library in Python that provides support for large, multi-dimensional arrays and matrices, along with a collection of mathematical functions to operate on these arrays. It is a fundamental package for scientific computing in Python.\n",
    "    \n",
    "### Properties of NumPy\n",
    "\n",
    "1. **N-dimensional Arrays:** Efficient multi-dimensional array operations.\n",
    "2. **Mathematical Functions:** Wide range of functions for computation.\n",
    "3. **Broadcasting:** Flexible arithmetic on differently-shaped arrays.\n",
    "\n",
    "### Applications of NumPy\n",
    "\n",
    "1. **Data Analysis:** Manipulating and analyzing datasets.\n",
    "2. **Scientific Computing:** Large-scale computations in various fields.\n",
    "3. **Machine Learning:** Preprocessing data and building models.\n",
    "</div>"
   ]
  },
  {
   "cell_type": "markdown",
   "id": "10feaab6",
   "metadata": {},
   "source": [
    "### Import NumPy Library"
   ]
  },
  {
   "cell_type": "code",
   "execution_count": 4,
   "id": "87f97b9b-d01e-4b33-9bf3-0ea5cf3b2887",
   "metadata": {},
   "outputs": [],
   "source": [
    "import numpy as np"
   ]
  },
  {
   "cell_type": "markdown",
   "id": "4a60eb67-e9c4-46ac-875f-e79d248f4c76",
   "metadata": {},
   "source": [
    "<style>\n",
    "    .font12 { font-size: 12px; }\n",
    "</style>\n",
    "\n",
    "<div class=\"font12\">\n",
    "\n",
    "### Create Array from Python List\n",
    "\n",
    "NumPy arrays can be created from Python lists using the `np.array()` function. This conversion allows the list to be used in array operations, which are more efficient for numerical computations compared to standard Python lists. \n",
    "\n",
    "</div>\n"
   ]
  },
  {
   "cell_type": "code",
   "execution_count": 5,
   "id": "804d0afe-8fdb-4768-bff4-c34e3994c6e5",
   "metadata": {},
   "outputs": [
    {
     "name": "stdout",
     "output_type": "stream",
     "text": [
      "[2 3 4 5 6 7 8 9]\n"
     ]
    }
   ],
   "source": [
    "#Create array from Python list\n",
    "arr_1=np.array([2,3,4,5,6,7,8,9])\n",
    "print(arr_1)"
   ]
  },
  {
   "cell_type": "markdown",
   "id": "f3b77aca-1036-4f2d-bbb5-5517e447d418",
   "metadata": {},
   "source": [
    "<style>\n",
    "    .font12 { font-size: 12px; }\n",
    "</style>\n",
    "\n",
    "<div class=\"font12\">\n",
    "\n",
    "### Create Array of Float Data Type\n",
    "\n",
    "You can specify the data type of a NumPy array during its creation using the `dtype` parameter. Setting `dtype=float` ensures that all elements in the array are treated as floating-point numbers, facilitating precise numerical operations.\n",
    "\n",
    "</div>\n"
   ]
  },
  {
   "cell_type": "code",
   "execution_count": 6,
   "id": "ece5cb63-7ab5-436d-aebf-05c5224b08c7",
   "metadata": {},
   "outputs": [
    {
     "name": "stdout",
     "output_type": "stream",
     "text": [
      "[2.4 3.4 6.7 8.9]\n"
     ]
    }
   ],
   "source": [
    "#create array of float data type\n",
    "arr_2=np.array([2.4,3.4,6.7,8.9])\n",
    "print(arr_2)"
   ]
  },
  {
   "cell_type": "markdown",
   "id": "644eaf40-f9b9-495e-a0ec-aceba30bc7ac",
   "metadata": {},
   "source": [
    "<style>\n",
    "    .font12 { font-size: 12px; }\n",
    "</style>\n",
    "\n",
    "<div class=\"font12\">\n",
    "\n",
    "### Convert Array into Data Type Float\n",
    "\n",
    "The `astype()` method is used to convert an existing NumPy array to a different data type, such as float. This method returns a new array with the desired data type while leaving the original array unchanged.\n",
    "\n",
    "</div>\n"
   ]
  },
  {
   "cell_type": "code",
   "execution_count": 7,
   "id": "6476ec8e-1a50-4210-b12b-491879930010",
   "metadata": {},
   "outputs": [
    {
     "data": {
      "text/plain": [
       "dtype('float32')"
      ]
     },
     "execution_count": 7,
     "metadata": {},
     "output_type": "execute_result"
    }
   ],
   "source": [
    "#convert array into data type float\n",
    "arr_3=np.array([2,3,4,5,6,7,8,9],dtype='float32')\n",
    "arr_3.dtype"
   ]
  },
  {
   "cell_type": "markdown",
   "id": "98ef5b40-8586-4bea-bfc2-a5121807bf15",
   "metadata": {},
   "source": [
    "<style>\n",
    "    .font12 { font-size: 12px; }\n",
    "</style>\n",
    "\n",
    "<div class=\"font12\">\n",
    "\n",
    "### Create Array by Using For Loop\n",
    "\n",
    "Arrays can be created by iterating through a range or sequence with a for loop and appending values to a list, which is then converted to a NumPy array. This approach is useful for generating arrays with custom values based on computation.\n",
    "\n",
    "</div>\n"
   ]
  },
  {
   "cell_type": "code",
   "execution_count": 8,
   "id": "68325e1e-6ea8-454c-881b-0c2864304988",
   "metadata": {},
   "outputs": [
    {
     "data": {
      "text/plain": [
       "array([[2, 3, 4],\n",
       "       [4, 5, 6],\n",
       "       [5, 6, 7],\n",
       "       [6, 7, 8]])"
      ]
     },
     "execution_count": 8,
     "metadata": {},
     "output_type": "execute_result"
    }
   ],
   "source": [
    "#create array by using for loop\n",
    "np.array([range(i, i+3)for i in [2,4,5,6]])"
   ]
  },
  {
   "cell_type": "markdown",
   "id": "660e78a5-8aad-4c72-a84f-3db590490208",
   "metadata": {},
   "source": [
    "<style>\n",
    "    .font12 { font-size: 12px; }\n",
    "</style>\n",
    "\n",
    "<div class=\"font12\">\n",
    "\n",
    "### Create Length of 10 Integers Filled with Zero\n",
    "\n",
    "The `np.zeros()` function creates an array of a specified length filled with zeros. By setting `dtype=int`, you ensure that the array is composed of integer values, suitable for initialization purposes.\n",
    "\n",
    "</div>\n"
   ]
  },
  {
   "cell_type": "code",
   "execution_count": 9,
   "id": "cc1b9ce3-5c9b-43dc-a7d8-aa8bd9728af9",
   "metadata": {},
   "outputs": [
    {
     "data": {
      "text/plain": [
       "array([0, 0, 0, 0, 0, 0, 0, 0, 0, 0])"
      ]
     },
     "execution_count": 9,
     "metadata": {},
     "output_type": "execute_result"
    }
   ],
   "source": [
    "#create a length of 10 integers filled with zero\n",
    "np.zeros(10, dtype='int')"
   ]
  },
  {
   "cell_type": "markdown",
   "id": "c8a3165e-2492-440e-9372-784d92d2a1f8",
   "metadata": {},
   "source": [
    "<style>\n",
    "    .font12 { font-size: 12px; }\n",
    "</style>\n",
    "\n",
    "<div class=\"font12\">\n",
    "\n",
    "### Create 3 by 5 Array Filled with 3.14\n",
    "\n",
    "Use the `np.full()` function to create a 3x5 array where every element is filled with a specific value, such as 3.14. This function allows for the creation of arrays with a constant value across all elements.\n",
    "\n",
    "</div>\n"
   ]
  },
  {
   "cell_type": "code",
   "execution_count": 10,
   "id": "52a59b4e-3e61-417b-9aa1-7c443ef35f6b",
   "metadata": {},
   "outputs": [
    {
     "data": {
      "text/plain": [
       "array([[3.14, 3.14, 3.14, 3.14, 3.14],\n",
       "       [3.14, 3.14, 3.14, 3.14, 3.14],\n",
       "       [3.14, 3.14, 3.14, 3.14, 3.14]])"
      ]
     },
     "execution_count": 10,
     "metadata": {},
     "output_type": "execute_result"
    }
   ],
   "source": [
    "#create 3 by 5 array filled with 3.14\n",
    "np.full((3,5),3.14)"
   ]
  },
  {
   "cell_type": "markdown",
   "id": "2e7cd8b6-5e7f-4595-8305-4b1afd9bf1f4",
   "metadata": {},
   "source": [
    "<style>\n",
    "    .font12 { font-size: 12px; }\n",
    "</style>\n",
    "\n",
    "<div class=\"font12\">\n",
    "\n",
    "### Create Array Filled with Linear Sequence Starting from 0 Ending at 20 Stepping with 2\n",
    "\n",
    "The `np.arange()` function generates an array with a sequence of values. By specifying the start, stop, and step parameters, you can create an array with values ranging from 0 to 20 with a step size of 2.\n",
    "\n",
    "</div>\n"
   ]
  },
  {
   "cell_type": "code",
   "execution_count": 11,
   "id": "05553930-9e82-41c7-8caf-fbc65e92b988",
   "metadata": {},
   "outputs": [
    {
     "data": {
      "text/plain": [
       "array([ 0,  2,  4,  6,  8, 10, 12, 14, 16, 18, 20])"
      ]
     },
     "execution_count": 11,
     "metadata": {},
     "output_type": "execute_result"
    }
   ],
   "source": [
    "#create an array filled with linear sequence starting from 0 ending at 20 stepping with 2\n",
    "np.arange(0,21,2)"
   ]
  },
  {
   "cell_type": "markdown",
   "id": "1952a67e-22be-4b36-bb75-93c8f883edaa",
   "metadata": {},
   "source": [
    "<style>\n",
    "    .font12 { font-size: 12px; }\n",
    "</style>\n",
    "\n",
    "<div class=\"font12\">\n",
    "\n",
    "### Create Array Evenly Spread Between 0 to 1\n",
    "\n",
    "`np.linspace()` is used to create an array with a specified number of evenly spaced values between two endpoints, such as 0 and 1. This is useful for generating arrays with values distributed over a range.\n",
    "\n",
    "</div>\n"
   ]
  },
  {
   "cell_type": "code",
   "execution_count": 12,
   "id": "fda9a8f0-3b18-4b8a-b7d9-eaa7cb80658c",
   "metadata": {},
   "outputs": [
    {
     "data": {
      "text/plain": [
       "array([0.  , 0.25, 0.5 , 0.75, 1.  ])"
      ]
     },
     "execution_count": 12,
     "metadata": {},
     "output_type": "execute_result"
    }
   ],
   "source": [
    "#create an array evenly spread between 0 to 1\n",
    "np.linspace(0,1,5)"
   ]
  },
  {
   "cell_type": "markdown",
   "id": "dfffd4ab-4623-4d77-b43e-ed4dd11da05a",
   "metadata": {},
   "source": [
    "<style>\n",
    "    .font12 { font-size: 12px; }\n",
    "</style>\n",
    "\n",
    "<div class=\"font12\">\n",
    "\n",
    "### Create 3 by 3 Identity Matrix\n",
    "\n",
    "An identity matrix is a square matrix with ones on the diagonal and zeros elsewhere. The `np.eye()` function generates such a matrix of a specified size, which is often used in linear algebra operations.\n",
    "\n",
    "</div>\n"
   ]
  },
  {
   "cell_type": "code",
   "execution_count": 13,
   "id": "1a5b71aa-e9e1-488a-a0a0-cb80e61e6fd9",
   "metadata": {},
   "outputs": [
    {
     "data": {
      "text/plain": [
       "array([[1., 0., 0.],\n",
       "       [0., 1., 0.],\n",
       "       [0., 0., 1.]])"
      ]
     },
     "execution_count": 13,
     "metadata": {},
     "output_type": "execute_result"
    }
   ],
   "source": [
    "#create 3 by 3 identity matrix\n",
    "np.eye(3)"
   ]
  },
  {
   "cell_type": "markdown",
   "id": "a041dcab-f9a7-4ece-8b67-55c568c91973",
   "metadata": {},
   "source": [
    "## Numpy array attributes"
   ]
  },
  {
   "cell_type": "code",
   "execution_count": 14,
   "id": "cebc7abb-2830-4994-a436-fa5e4f628243",
   "metadata": {},
   "outputs": [],
   "source": [
    "#generate random matrix \n",
    "np.random.seed(0)"
   ]
  },
  {
   "cell_type": "markdown",
   "id": "f9b32d24",
   "metadata": {},
   "source": [
    "<style>\n",
    "    .font12 { font-size: 12px; }\n",
    "</style>\n",
    "\n",
    "<div class=\"font12\">\n",
    "\n",
    "### Generate Random 1D Matrix\n",
    "\n",
    "A one-dimensional (1D) random matrix is essentially a vector with random elements. The `np.random.rand()` function in NumPy generates an array of specified size with random values uniformly distributed between 0 and 1. These matrices are useful for simulations, random sampling, and other statistical applications.\n",
    "\n",
    "</div>\n"
   ]
  },
  {
   "cell_type": "code",
   "execution_count": 15,
   "id": "78577d2b-a35e-476b-9b00-3ac7a0e78013",
   "metadata": {},
   "outputs": [
    {
     "data": {
      "text/plain": [
       "array([5, 0, 3, 3, 7, 9])"
      ]
     },
     "execution_count": 15,
     "metadata": {},
     "output_type": "execute_result"
    }
   ],
   "source": [
    "#1Dimention\n",
    "x1=np.random.randint(10, size=6)\n",
    "x1"
   ]
  },
  {
   "cell_type": "markdown",
   "id": "ba0f4e30",
   "metadata": {},
   "source": [
    "<style>\n",
    "    .font12 { font-size: 12px; }\n",
    "</style>\n",
    "\n",
    "<div class=\"font12\">\n",
    "\n",
    "### Generate Random 2D Matrix\n",
    "\n",
    "A two-dimensional (2D) random matrix is an array with rows and columns filled with random values. The `np.random.rand(m, n)` function creates an `m x n` matrix with random values uniformly distributed between 0 and 1. Such matrices are widely used in data science for creating synthetic datasets and testing algorithms.\n",
    "\n",
    "</div>\n"
   ]
  },
  {
   "cell_type": "code",
   "execution_count": 16,
   "id": "206287d9-5f36-4ce5-b367-aa05d89c3ae1",
   "metadata": {},
   "outputs": [
    {
     "data": {
      "text/plain": [
       "array([[3, 5, 2, 4, 7],\n",
       "       [6, 8, 8, 1, 6],\n",
       "       [7, 7, 8, 1, 5]])"
      ]
     },
     "execution_count": 16,
     "metadata": {},
     "output_type": "execute_result"
    }
   ],
   "source": [
    "#2Dimentions\n",
    "x2=np.random.randint(10, size=(3,5))\n",
    "x2"
   ]
  },
  {
   "cell_type": "markdown",
   "id": "e3862282",
   "metadata": {},
   "source": [
    "<style>\n",
    "    .font12 { font-size: 12px; }\n",
    "</style>\n",
    "\n",
    "<div class=\"font12\">\n",
    "\n",
    "### Generate Random 3D Matrix\n",
    "\n",
    "A three-dimensional (3D) random matrix is an array with three dimensions filled with random values. The `np.random.rand(d1, d2, d3)` function generates a `d1 x d2 x d3` matrix with random values uniformly distributed between 0 and 1. These matrices are used in simulations, 3D modeling, and machine learning applications.\n",
    "\n",
    "</div>\n"
   ]
  },
  {
   "cell_type": "code",
   "execution_count": 17,
   "id": "c02e6b32-f386-462a-bf2e-a7937d92d172",
   "metadata": {},
   "outputs": [
    {
     "data": {
      "text/plain": [
       "array([[[9, 8, 9, 4, 3],\n",
       "        [0, 3, 5, 0, 2],\n",
       "        [3, 8, 1, 3, 3],\n",
       "        [3, 7, 0, 1, 9]],\n",
       "\n",
       "       [[9, 0, 4, 7, 3],\n",
       "        [2, 7, 2, 0, 0],\n",
       "        [4, 5, 5, 6, 8],\n",
       "        [4, 1, 4, 9, 8]],\n",
       "\n",
       "       [[1, 1, 7, 9, 9],\n",
       "        [3, 6, 7, 2, 0],\n",
       "        [3, 5, 9, 4, 4],\n",
       "        [6, 4, 4, 3, 4]]])"
      ]
     },
     "execution_count": 17,
     "metadata": {},
     "output_type": "execute_result"
    }
   ],
   "source": [
    "#3Dimentions\n",
    "x3=np.random.randint(10, size=(3,4,5))\n",
    "x3"
   ]
  },
  {
   "cell_type": "markdown",
   "id": "0a70a189",
   "metadata": {},
   "source": [
    "<style>\n",
    "    .font12 { font-size: 12px; }\n",
    "</style>\n",
    "\n",
    "<div class=\"font12\">\n",
    "\n",
    "### Print Shape and Size of 3D Matrix\n",
    "\n",
    "The shape and size of a 3D matrix can be obtained using the `shape` and `size` attributes of a NumPy array. The `shape` attribute returns the dimensions of the matrix, while the `size` attribute returns the total number of elements in the matrix. These attributes are useful for understanding the structure of the matrix and for debugging purposes.\n",
    "\n",
    "</div>\n"
   ]
  },
  {
   "cell_type": "code",
   "execution_count": 18,
   "id": "825ea4f2-c2e6-42b0-b7e1-dc1f9c706874",
   "metadata": {},
   "outputs": [
    {
     "name": "stdout",
     "output_type": "stream",
     "text": [
      "Dimention of x3 is 3\n"
     ]
    }
   ],
   "source": [
    "#print x3 dimention, shape and size\n",
    "dim=x3.ndim\n",
    "shape=x3.shape\n",
    "size=x3.size\n",
    "print(f\"Dimention of x3 is {dim}\")"
   ]
  },
  {
   "cell_type": "code",
   "execution_count": 19,
   "id": "cb9d88b3-51da-4418-95b6-083bcd9ee2f2",
   "metadata": {},
   "outputs": [
    {
     "data": {
      "text/plain": [
       "(3, 4, 5)"
      ]
     },
     "execution_count": 19,
     "metadata": {},
     "output_type": "execute_result"
    }
   ],
   "source": [
    "x3.shape"
   ]
  },
  {
   "cell_type": "code",
   "execution_count": 20,
   "id": "d20849dc-83fa-4f3d-b859-a7d93d165c71",
   "metadata": {},
   "outputs": [
    {
     "data": {
      "text/plain": [
       "60"
      ]
     },
     "execution_count": 20,
     "metadata": {},
     "output_type": "execute_result"
    }
   ],
   "source": [
    "x3.size"
   ]
  },
  {
   "cell_type": "markdown",
   "id": "259c0974-e36a-4175-9f67-acbc7ddcfb65",
   "metadata": {},
   "source": [
    "<style>\n",
    "    .font12 { font-size: 12px; }\n",
    "</style>\n",
    "\n",
    "<div class=\"font12\">\n",
    "\n",
    "## Array Indexing\n",
    "\n",
    "Array indexing involves accessing specific elements in an array using their indices. In NumPy, you can use integer indices to retrieve elements from 1D, 2D, and 3D arrays. For example, `array[i]` accesses the `i-th` element in a 1D array, `array[i, j]` retrieves the element at the `i-th` row and `j-th` column in a 2D array, and `array[i, j, k]` fetches the element in the `i-th` depth, `j-th` row, and `k-th` column in a 3D array. Indexing is crucial for extracting and manipulating data efficiently.\n",
    "\n",
    "</div>\n"
   ]
  },
  {
   "cell_type": "markdown",
   "id": "123cd6eb",
   "metadata": {},
   "source": [
    "<style>\n",
    "    .font12 { font-size: 12px; }\n",
    "</style>\n",
    "\n",
    "<div class=\"font12\">\n",
    "\n",
    "### Access First and Last Element\n",
    "\n",
    "Accessing elements in a matrix can be done using indexing. To access the first element of a 1D matrix, use `array[0]`. To access the last element, use `array[-1]`. This allows quick retrieval of elements from the start or end of the matrix, which is often needed in various computations and analyses.\n",
    "\n",
    "</div>\n"
   ]
  },
  {
   "cell_type": "code",
   "execution_count": 21,
   "id": "9967bc19-5cd4-4a2c-8b22-d9ba9b5b8c64",
   "metadata": {},
   "outputs": [
    {
     "name": "stdout",
     "output_type": "stream",
     "text": [
      "First element is 5 and Last element is 9\n"
     ]
    }
   ],
   "source": [
    "#access first and last element \n",
    "first=x1[0]\n",
    "last=x1[-1]\n",
    "print(f\"First element is {first} and Last element is {last}\")"
   ]
  },
  {
   "cell_type": "markdown",
   "id": "cbaabd2d",
   "metadata": {},
   "source": [
    "<style>\n",
    "    .font12 { font-size: 12px; }\n",
    "</style>\n",
    "\n",
    "<div class=\"font12\">\n",
    "\n",
    "### Access Second Last Element\n",
    "\n",
    "To access the second last element of a 1D matrix, use the index `array[-2]`. This indexing method helps in quickly accessing elements from the end of the array, which is useful in many algorithms where the focus is on the tail elements of the data.\n",
    "\n",
    "</div>\n"
   ]
  },
  {
   "cell_type": "code",
   "execution_count": 22,
   "id": "eb4ce938-3a79-40ca-bcc2-c37cc2398221",
   "metadata": {},
   "outputs": [
    {
     "data": {
      "text/plain": [
       "7"
      ]
     },
     "execution_count": 22,
     "metadata": {},
     "output_type": "execute_result"
    }
   ],
   "source": [
    "#access second last element \n",
    "x1[-2]"
   ]
  },
  {
   "cell_type": "markdown",
   "id": "fd70edac",
   "metadata": {},
   "source": [
    "<style>\n",
    "    .font12 { font-size: 12px; }\n",
    "</style>\n",
    "\n",
    "<div class=\"font12\">\n",
    "\n",
    "### Access Any Element from 2D Matrix\n",
    "\n",
    "In a two-dimensional (2D) matrix, elements can be accessed using a pair of indices. For example, `array[i, j]` accesses the element in the `i-th` row and `j-th` column. This indexing is essential for manipulating and analyzing specific entries within a matrix.\n",
    "\n",
    "</div>\n"
   ]
  },
  {
   "cell_type": "code",
   "execution_count": 60,
   "id": "8cd25083-a13b-4595-a431-9b1e7d2d9573",
   "metadata": {},
   "outputs": [
    {
     "data": {
      "text/plain": [
       "8"
      ]
     },
     "execution_count": 60,
     "metadata": {},
     "output_type": "execute_result"
    }
   ],
   "source": [
    "#access any element from x2\n",
    "x2[1,2]"
   ]
  },
  {
   "cell_type": "markdown",
   "id": "cf853825",
   "metadata": {},
   "source": [
    "<style>\n",
    "    .font12 { font-size: 12px; }\n",
    "</style>\n",
    "\n",
    "<div class=\"font12\">\n",
    "\n",
    "### Modify the Value in 2D Matrix\n",
    "\n",
    "Modifying the value of an element in a 2D matrix is straightforward. By using the index `array[i, j]`, you can assign a new value to the specified element. For instance, `array[i, j] = new_value` updates the element at the `i-th` row and `j-th` column. This capability is crucial for updating data and conducting iterative algorithms.\n",
    "\n",
    "</div>\n"
   ]
  },
  {
   "cell_type": "code",
   "execution_count": 62,
   "id": "4f280887-1851-4922-9a80-afb9e96ca7cf",
   "metadata": {},
   "outputs": [
    {
     "name": "stdout",
     "output_type": "stream",
     "text": [
      "Modify to value 12\n"
     ]
    }
   ],
   "source": [
    "#modify the value from x2\n",
    "x2[0,0]=12\n",
    "print(f'Modify to value {x2[0,0]}')"
   ]
  },
  {
   "cell_type": "markdown",
   "id": "c9eebedc-001c-4c40-b9d1-6ea8e9d05d81",
   "metadata": {},
   "source": [
    "\n",
    "<style>\n",
    "    .font12 { font-size: 12px; }\n",
    "</style>\n",
    "\n",
    "<div class=\"font12\">\n",
    "\n",
    "## Array Slicing\n",
    "\n",
    "Array slicing allows you to extract a subset of elements from an array. In NumPy, you can use the slice notation `array[start:stop:step]` to select elements from an array. This is useful for data manipulation, such as selecting rows, columns, or specific ranges of elements in a matrix. For example, `array[1:4]` selects elements from index 1 to 3 (excluding index 4) in a 1D array.\n",
    "\n",
    "</div>\n"
   ]
  },
  {
   "cell_type": "code",
   "execution_count": 65,
   "id": "aa54aa41-fcb6-46d5-bcf2-7e7e815d6104",
   "metadata": {},
   "outputs": [
    {
     "data": {
      "text/plain": [
       "array([ 0,  1,  2,  3,  4,  5,  6,  7,  8,  9, 10, 11, 12, 13, 14, 15, 16,\n",
       "       17, 18, 19])"
      ]
     },
     "execution_count": 65,
     "metadata": {},
     "output_type": "execute_result"
    }
   ],
   "source": [
    "x=np.arange(20)\n",
    "x"
   ]
  },
  {
   "cell_type": "code",
   "execution_count": 67,
   "id": "1a5820f6-882d-4b06-8269-a576f96287e3",
   "metadata": {},
   "outputs": [
    {
     "data": {
      "text/plain": [
       "array([0, 1, 2, 3, 4])"
      ]
     },
     "execution_count": 67,
     "metadata": {},
     "output_type": "execute_result"
    }
   ],
   "source": [
    "#extract 1st five elements\n",
    "x[0:5]"
   ]
  },
  {
   "cell_type": "code",
   "execution_count": 69,
   "id": "10fe64a8-101d-4983-afa9-8779d5213d05",
   "metadata": {},
   "outputs": [
    {
     "data": {
      "text/plain": [
       "array([5, 6, 7, 8, 9])"
      ]
     },
     "execution_count": 69,
     "metadata": {},
     "output_type": "execute_result"
    }
   ],
   "source": [
    "#extract elements after index 5\n",
    "x[5:10]"
   ]
  },
  {
   "cell_type": "code",
   "execution_count": 71,
   "id": "58b91db2-dab1-4d39-a5b5-124c8f783f1f",
   "metadata": {},
   "outputs": [
    {
     "data": {
      "text/plain": [
       "array([5, 6])"
      ]
     },
     "execution_count": 71,
     "metadata": {},
     "output_type": "execute_result"
    }
   ],
   "source": [
    "#extract middle array 4 to 7\n",
    "x[5:7]"
   ]
  },
  {
   "cell_type": "code",
   "execution_count": 73,
   "id": "cde4fedb-cbe2-4e5c-b329-437ec812f652",
   "metadata": {},
   "outputs": [
    {
     "data": {
      "text/plain": [
       "array([ 0,  2,  4,  6,  8, 10, 12, 14, 16, 18])"
      ]
     },
     "execution_count": 73,
     "metadata": {},
     "output_type": "execute_result"
    }
   ],
   "source": [
    "#display every other element\n",
    "x[0:19:2]"
   ]
  },
  {
   "cell_type": "code",
   "execution_count": 75,
   "id": "32bae782-7339-4df4-9184-2bc9562d06e5",
   "metadata": {},
   "outputs": [
    {
     "data": {
      "text/plain": [
       "array([ 1,  3,  5,  7,  9, 11, 13, 15, 17])"
      ]
     },
     "execution_count": 75,
     "metadata": {},
     "output_type": "execute_result"
    }
   ],
   "source": [
    "#display every other element starting at index 1\n",
    "x[1:19:2]"
   ]
  },
  {
   "cell_type": "code",
   "execution_count": 77,
   "id": "eb0584c7-5bed-4f4f-ae71-a407e4be7920",
   "metadata": {},
   "outputs": [
    {
     "data": {
      "text/plain": [
       "array([19, 18, 17, 16, 15, 14, 13, 12, 11, 10,  9,  8,  7,  6,  5,  4,  3,\n",
       "        2,  1,  0])"
      ]
     },
     "execution_count": 77,
     "metadata": {},
     "output_type": "execute_result"
    }
   ],
   "source": [
    "#display all element reverse\n",
    "x[::-1]"
   ]
  },
  {
   "cell_type": "code",
   "execution_count": 79,
   "id": "b6b73c54-9294-4b3e-b2ad-7d4fb8809293",
   "metadata": {},
   "outputs": [
    {
     "data": {
      "text/plain": [
       "array([19, 18, 17, 16, 15, 14, 13, 12, 11, 10,  9,  8,  7,  6,  5])"
      ]
     },
     "execution_count": 79,
     "metadata": {},
     "output_type": "execute_result"
    }
   ],
   "source": [
    "#diplay reverse everyother from index 5\n",
    "x[:4:-1]"
   ]
  },
  {
   "cell_type": "code",
   "execution_count": 81,
   "id": "802c4cc6-369b-4146-bf87-7b58d82b9701",
   "metadata": {},
   "outputs": [
    {
     "data": {
      "text/plain": [
       "array([[12,  5,  2,  4,  7],\n",
       "       [ 7,  7,  8,  1,  5]])"
      ]
     },
     "execution_count": 81,
     "metadata": {},
     "output_type": "execute_result"
    }
   ],
   "source": [
    "#2D display every other element\n",
    "x2[0:19:2]"
   ]
  },
  {
   "cell_type": "code",
   "execution_count": 83,
   "id": "bb37ff32-b760-4221-9f8d-b63996bac733",
   "metadata": {},
   "outputs": [
    {
     "data": {
      "text/plain": [
       "array([[1, 2, 3],\n",
       "       [4, 5, 6],\n",
       "       [7, 8, 9]])"
      ]
     },
     "execution_count": 83,
     "metadata": {},
     "output_type": "execute_result"
    }
   ],
   "source": [
    "#reshape\n",
    "read=np.arange(1,10).reshape(3,3)\n",
    "read"
   ]
  },
  {
   "cell_type": "markdown",
   "id": "296a1ebb-1a19-438a-beae-2b14dbbcffa8",
   "metadata": {},
   "source": [
    "<style>\n",
    "    .font12 { font-size: 12px; }\n",
    "</style>\n",
    "\n",
    "<div class=\"font12\">\n",
    "\n",
    "## Array Concatenate\n",
    "\n",
    "Array concatenation involves combining two or more arrays into a single array. In NumPy, you can use functions like `np.concatenate()` to join arrays along a specified axis. For example, `np.concatenate((array1, array2), axis=0)` stacks `array1` and `array2` vertically, while `axis=1` stacks them horizontally. This operation is useful for merging datasets or aggregating results from multiple sources.\n",
    "\n",
    "</div>\n"
   ]
  },
  {
   "cell_type": "code",
   "execution_count": 86,
   "id": "a92769ed-d6ad-4b6c-9e5e-f6aacbcf1259",
   "metadata": {},
   "outputs": [
    {
     "data": {
      "text/plain": [
       "array([ 0,  1,  2,  3,  4,  5,  6,  7,  8,  9, 10, 11, 12, 13, 14, 15, 16,\n",
       "       17, 18, 19,  5,  0,  3,  3,  7,  9])"
      ]
     },
     "execution_count": 86,
     "metadata": {},
     "output_type": "execute_result"
    }
   ],
   "source": [
    "np.concatenate([x,x1])"
   ]
  },
  {
   "cell_type": "markdown",
   "id": "c4c9fb41-c56a-4a29-8f51-f4648bf12c45",
   "metadata": {},
   "source": [
    "## Universal Functions & Aggregation Functions on Dataset \n"
   ]
  },
  {
   "cell_type": "code",
   "execution_count": 151,
   "id": "d4b645f7-67c6-4ba3-a028-a30fae288b80",
   "metadata": {},
   "outputs": [],
   "source": [
    "import pandas as pd\n",
    "data=pd.read_csv(\"president_heights.csv\")"
   ]
  },
  {
   "cell_type": "code",
   "execution_count": 153,
   "id": "b8338e21-ac59-43ff-bba5-26fa5dffc46b",
   "metadata": {},
   "outputs": [
    {
     "data": {
      "text/html": [
       "<div>\n",
       "<style scoped>\n",
       "    .dataframe tbody tr th:only-of-type {\n",
       "        vertical-align: middle;\n",
       "    }\n",
       "\n",
       "    .dataframe tbody tr th {\n",
       "        vertical-align: top;\n",
       "    }\n",
       "\n",
       "    .dataframe thead th {\n",
       "        text-align: right;\n",
       "    }\n",
       "</style>\n",
       "<table border=\"1\" class=\"dataframe\">\n",
       "  <thead>\n",
       "    <tr style=\"text-align: right;\">\n",
       "      <th></th>\n",
       "      <th>order</th>\n",
       "      <th>name</th>\n",
       "      <th>height(cm)</th>\n",
       "    </tr>\n",
       "  </thead>\n",
       "  <tbody>\n",
       "    <tr>\n",
       "      <th>0</th>\n",
       "      <td>1</td>\n",
       "      <td>George Washington</td>\n",
       "      <td>189</td>\n",
       "    </tr>\n",
       "    <tr>\n",
       "      <th>1</th>\n",
       "      <td>2</td>\n",
       "      <td>John Adams</td>\n",
       "      <td>170</td>\n",
       "    </tr>\n",
       "    <tr>\n",
       "      <th>2</th>\n",
       "      <td>3</td>\n",
       "      <td>Thomas Jefferson</td>\n",
       "      <td>189</td>\n",
       "    </tr>\n",
       "    <tr>\n",
       "      <th>3</th>\n",
       "      <td>4</td>\n",
       "      <td>James Madison</td>\n",
       "      <td>163</td>\n",
       "    </tr>\n",
       "    <tr>\n",
       "      <th>4</th>\n",
       "      <td>5</td>\n",
       "      <td>James Monroe</td>\n",
       "      <td>183</td>\n",
       "    </tr>\n",
       "  </tbody>\n",
       "</table>\n",
       "</div>"
      ],
      "text/plain": [
       "   order               name  height(cm)\n",
       "0      1  George Washington         189\n",
       "1      2         John Adams         170\n",
       "2      3   Thomas Jefferson         189\n",
       "3      4      James Madison         163\n",
       "4      5       James Monroe         183"
      ]
     },
     "execution_count": 153,
     "metadata": {},
     "output_type": "execute_result"
    }
   ],
   "source": [
    "data.head()"
   ]
  },
  {
   "cell_type": "markdown",
   "id": "121623d3-be0b-4109-9871-16350c391bd0",
   "metadata": {},
   "source": [
    "<style>\n",
    "    .font12 { font-size: 12px; }\n",
    "</style>\n",
    "\n",
    "<div class=\"font12\">\n",
    "\n",
    "### Universal Functions on Dataset\n",
    "\n",
    "Universal functions (ufuncs) are functions that operate element-wise on arrays. In NumPy, ufuncs allow you to perform operations like addition, subtraction, multiplication, and division efficiently. Functions such as `np.add()`, `np.subtract()`, `np.multiply()`, and `np.divide()` perform these arithmetic operations. Additionally, `np.floor_divide()` performs integer division, `np.power()` raises elements to a power, and `np.mod()` computes the modulus. Ufuncs enable fast, vectorized computations on arrays without the need for explicit loops.\n",
    "\n",
    "</div>\n"
   ]
  },
  {
   "cell_type": "code",
   "execution_count": 156,
   "id": "d4fe2873-018a-4296-bcb4-eb7ffaea229b",
   "metadata": {},
   "outputs": [],
   "source": [
    "value_to_add = 5\n",
    "data['height(cm)'] = np.add(data['height(cm)'], value_to_add)"
   ]
  },
  {
   "cell_type": "code",
   "execution_count": 158,
   "id": "21c3848c-9463-4680-96dd-f71bf931b4c5",
   "metadata": {},
   "outputs": [
    {
     "data": {
      "text/html": [
       "<div>\n",
       "<style scoped>\n",
       "    .dataframe tbody tr th:only-of-type {\n",
       "        vertical-align: middle;\n",
       "    }\n",
       "\n",
       "    .dataframe tbody tr th {\n",
       "        vertical-align: top;\n",
       "    }\n",
       "\n",
       "    .dataframe thead th {\n",
       "        text-align: right;\n",
       "    }\n",
       "</style>\n",
       "<table border=\"1\" class=\"dataframe\">\n",
       "  <thead>\n",
       "    <tr style=\"text-align: right;\">\n",
       "      <th></th>\n",
       "      <th>order</th>\n",
       "      <th>name</th>\n",
       "      <th>height(cm)</th>\n",
       "    </tr>\n",
       "  </thead>\n",
       "  <tbody>\n",
       "    <tr>\n",
       "      <th>0</th>\n",
       "      <td>1</td>\n",
       "      <td>George Washington</td>\n",
       "      <td>194</td>\n",
       "    </tr>\n",
       "    <tr>\n",
       "      <th>1</th>\n",
       "      <td>2</td>\n",
       "      <td>John Adams</td>\n",
       "      <td>175</td>\n",
       "    </tr>\n",
       "    <tr>\n",
       "      <th>2</th>\n",
       "      <td>3</td>\n",
       "      <td>Thomas Jefferson</td>\n",
       "      <td>194</td>\n",
       "    </tr>\n",
       "    <tr>\n",
       "      <th>3</th>\n",
       "      <td>4</td>\n",
       "      <td>James Madison</td>\n",
       "      <td>168</td>\n",
       "    </tr>\n",
       "    <tr>\n",
       "      <th>4</th>\n",
       "      <td>5</td>\n",
       "      <td>James Monroe</td>\n",
       "      <td>188</td>\n",
       "    </tr>\n",
       "  </tbody>\n",
       "</table>\n",
       "</div>"
      ],
      "text/plain": [
       "   order               name  height(cm)\n",
       "0      1  George Washington         194\n",
       "1      2         John Adams         175\n",
       "2      3   Thomas Jefferson         194\n",
       "3      4      James Madison         168\n",
       "4      5       James Monroe         188"
      ]
     },
     "execution_count": 158,
     "metadata": {},
     "output_type": "execute_result"
    }
   ],
   "source": [
    "data.head()"
   ]
  },
  {
   "cell_type": "code",
   "execution_count": 160,
   "id": "1607730a-3872-43ca-b922-dd2627f9a20b",
   "metadata": {},
   "outputs": [],
   "source": [
    "value_to_subtract = 5\n",
    "data['height(cm)'] = np.subtract(data['height(cm)'], value_to_subtract)"
   ]
  },
  {
   "cell_type": "code",
   "execution_count": 162,
   "id": "5926e751-b0bf-4a77-ba28-0d30c38fb825",
   "metadata": {},
   "outputs": [
    {
     "data": {
      "text/html": [
       "<div>\n",
       "<style scoped>\n",
       "    .dataframe tbody tr th:only-of-type {\n",
       "        vertical-align: middle;\n",
       "    }\n",
       "\n",
       "    .dataframe tbody tr th {\n",
       "        vertical-align: top;\n",
       "    }\n",
       "\n",
       "    .dataframe thead th {\n",
       "        text-align: right;\n",
       "    }\n",
       "</style>\n",
       "<table border=\"1\" class=\"dataframe\">\n",
       "  <thead>\n",
       "    <tr style=\"text-align: right;\">\n",
       "      <th></th>\n",
       "      <th>order</th>\n",
       "      <th>name</th>\n",
       "      <th>height(cm)</th>\n",
       "    </tr>\n",
       "  </thead>\n",
       "  <tbody>\n",
       "    <tr>\n",
       "      <th>0</th>\n",
       "      <td>1</td>\n",
       "      <td>George Washington</td>\n",
       "      <td>189</td>\n",
       "    </tr>\n",
       "    <tr>\n",
       "      <th>1</th>\n",
       "      <td>2</td>\n",
       "      <td>John Adams</td>\n",
       "      <td>170</td>\n",
       "    </tr>\n",
       "    <tr>\n",
       "      <th>2</th>\n",
       "      <td>3</td>\n",
       "      <td>Thomas Jefferson</td>\n",
       "      <td>189</td>\n",
       "    </tr>\n",
       "    <tr>\n",
       "      <th>3</th>\n",
       "      <td>4</td>\n",
       "      <td>James Madison</td>\n",
       "      <td>163</td>\n",
       "    </tr>\n",
       "    <tr>\n",
       "      <th>4</th>\n",
       "      <td>5</td>\n",
       "      <td>James Monroe</td>\n",
       "      <td>183</td>\n",
       "    </tr>\n",
       "  </tbody>\n",
       "</table>\n",
       "</div>"
      ],
      "text/plain": [
       "   order               name  height(cm)\n",
       "0      1  George Washington         189\n",
       "1      2         John Adams         170\n",
       "2      3   Thomas Jefferson         189\n",
       "3      4      James Madison         163\n",
       "4      5       James Monroe         183"
      ]
     },
     "execution_count": 162,
     "metadata": {},
     "output_type": "execute_result"
    }
   ],
   "source": [
    "data.head()"
   ]
  },
  {
   "cell_type": "code",
   "execution_count": 164,
   "id": "7282bdba-a61b-4187-b5e0-1870d79216be",
   "metadata": {},
   "outputs": [],
   "source": [
    "value_to_multiply = 2\n",
    "data['height(cm)'] = np.multiply(data['height(cm)'], value_to_multiply)"
   ]
  },
  {
   "cell_type": "code",
   "execution_count": 166,
   "id": "85c62d25-38ae-440b-a1ba-46eee1af4ace",
   "metadata": {},
   "outputs": [
    {
     "data": {
      "text/html": [
       "<div>\n",
       "<style scoped>\n",
       "    .dataframe tbody tr th:only-of-type {\n",
       "        vertical-align: middle;\n",
       "    }\n",
       "\n",
       "    .dataframe tbody tr th {\n",
       "        vertical-align: top;\n",
       "    }\n",
       "\n",
       "    .dataframe thead th {\n",
       "        text-align: right;\n",
       "    }\n",
       "</style>\n",
       "<table border=\"1\" class=\"dataframe\">\n",
       "  <thead>\n",
       "    <tr style=\"text-align: right;\">\n",
       "      <th></th>\n",
       "      <th>order</th>\n",
       "      <th>name</th>\n",
       "      <th>height(cm)</th>\n",
       "    </tr>\n",
       "  </thead>\n",
       "  <tbody>\n",
       "    <tr>\n",
       "      <th>0</th>\n",
       "      <td>1</td>\n",
       "      <td>George Washington</td>\n",
       "      <td>378</td>\n",
       "    </tr>\n",
       "    <tr>\n",
       "      <th>1</th>\n",
       "      <td>2</td>\n",
       "      <td>John Adams</td>\n",
       "      <td>340</td>\n",
       "    </tr>\n",
       "    <tr>\n",
       "      <th>2</th>\n",
       "      <td>3</td>\n",
       "      <td>Thomas Jefferson</td>\n",
       "      <td>378</td>\n",
       "    </tr>\n",
       "    <tr>\n",
       "      <th>3</th>\n",
       "      <td>4</td>\n",
       "      <td>James Madison</td>\n",
       "      <td>326</td>\n",
       "    </tr>\n",
       "    <tr>\n",
       "      <th>4</th>\n",
       "      <td>5</td>\n",
       "      <td>James Monroe</td>\n",
       "      <td>366</td>\n",
       "    </tr>\n",
       "  </tbody>\n",
       "</table>\n",
       "</div>"
      ],
      "text/plain": [
       "   order               name  height(cm)\n",
       "0      1  George Washington         378\n",
       "1      2         John Adams         340\n",
       "2      3   Thomas Jefferson         378\n",
       "3      4      James Madison         326\n",
       "4      5       James Monroe         366"
      ]
     },
     "execution_count": 166,
     "metadata": {},
     "output_type": "execute_result"
    }
   ],
   "source": [
    "data.head()"
   ]
  },
  {
   "cell_type": "code",
   "execution_count": 168,
   "id": "ee336b3b-c43c-4774-9a8e-daf21289dd26",
   "metadata": {},
   "outputs": [],
   "source": [
    "value_to_divide = 2\n",
    "data['height(cm)'] = (np.divide(data['height(cm)'], value_to_divide)).astype(int)"
   ]
  },
  {
   "cell_type": "code",
   "execution_count": 170,
   "id": "d42da68e-e39b-429c-937e-6b4c39ddd451",
   "metadata": {},
   "outputs": [
    {
     "data": {
      "text/html": [
       "<div>\n",
       "<style scoped>\n",
       "    .dataframe tbody tr th:only-of-type {\n",
       "        vertical-align: middle;\n",
       "    }\n",
       "\n",
       "    .dataframe tbody tr th {\n",
       "        vertical-align: top;\n",
       "    }\n",
       "\n",
       "    .dataframe thead th {\n",
       "        text-align: right;\n",
       "    }\n",
       "</style>\n",
       "<table border=\"1\" class=\"dataframe\">\n",
       "  <thead>\n",
       "    <tr style=\"text-align: right;\">\n",
       "      <th></th>\n",
       "      <th>order</th>\n",
       "      <th>name</th>\n",
       "      <th>height(cm)</th>\n",
       "    </tr>\n",
       "  </thead>\n",
       "  <tbody>\n",
       "    <tr>\n",
       "      <th>0</th>\n",
       "      <td>1</td>\n",
       "      <td>George Washington</td>\n",
       "      <td>189</td>\n",
       "    </tr>\n",
       "    <tr>\n",
       "      <th>1</th>\n",
       "      <td>2</td>\n",
       "      <td>John Adams</td>\n",
       "      <td>170</td>\n",
       "    </tr>\n",
       "    <tr>\n",
       "      <th>2</th>\n",
       "      <td>3</td>\n",
       "      <td>Thomas Jefferson</td>\n",
       "      <td>189</td>\n",
       "    </tr>\n",
       "    <tr>\n",
       "      <th>3</th>\n",
       "      <td>4</td>\n",
       "      <td>James Madison</td>\n",
       "      <td>163</td>\n",
       "    </tr>\n",
       "    <tr>\n",
       "      <th>4</th>\n",
       "      <td>5</td>\n",
       "      <td>James Monroe</td>\n",
       "      <td>183</td>\n",
       "    </tr>\n",
       "  </tbody>\n",
       "</table>\n",
       "</div>"
      ],
      "text/plain": [
       "   order               name  height(cm)\n",
       "0      1  George Washington         189\n",
       "1      2         John Adams         170\n",
       "2      3   Thomas Jefferson         189\n",
       "3      4      James Madison         163\n",
       "4      5       James Monroe         183"
      ]
     },
     "execution_count": 170,
     "metadata": {},
     "output_type": "execute_result"
    }
   ],
   "source": [
    "data.head()"
   ]
  },
  {
   "cell_type": "code",
   "execution_count": 172,
   "id": "4e35ffaf-3601-4680-a4d0-30fe13ca6aea",
   "metadata": {},
   "outputs": [],
   "source": [
    "divisor = 10\n",
    "data['height_floor_divide'] = np.floor_divide(data['height(cm)'], divisor)"
   ]
  },
  {
   "cell_type": "code",
   "execution_count": 174,
   "id": "f7314def-83b4-424c-8753-79fd96699e87",
   "metadata": {},
   "outputs": [
    {
     "data": {
      "text/html": [
       "<div>\n",
       "<style scoped>\n",
       "    .dataframe tbody tr th:only-of-type {\n",
       "        vertical-align: middle;\n",
       "    }\n",
       "\n",
       "    .dataframe tbody tr th {\n",
       "        vertical-align: top;\n",
       "    }\n",
       "\n",
       "    .dataframe thead th {\n",
       "        text-align: right;\n",
       "    }\n",
       "</style>\n",
       "<table border=\"1\" class=\"dataframe\">\n",
       "  <thead>\n",
       "    <tr style=\"text-align: right;\">\n",
       "      <th></th>\n",
       "      <th>order</th>\n",
       "      <th>name</th>\n",
       "      <th>height(cm)</th>\n",
       "      <th>height_floor_divide</th>\n",
       "    </tr>\n",
       "  </thead>\n",
       "  <tbody>\n",
       "    <tr>\n",
       "      <th>0</th>\n",
       "      <td>1</td>\n",
       "      <td>George Washington</td>\n",
       "      <td>189</td>\n",
       "      <td>18</td>\n",
       "    </tr>\n",
       "    <tr>\n",
       "      <th>1</th>\n",
       "      <td>2</td>\n",
       "      <td>John Adams</td>\n",
       "      <td>170</td>\n",
       "      <td>17</td>\n",
       "    </tr>\n",
       "    <tr>\n",
       "      <th>2</th>\n",
       "      <td>3</td>\n",
       "      <td>Thomas Jefferson</td>\n",
       "      <td>189</td>\n",
       "      <td>18</td>\n",
       "    </tr>\n",
       "    <tr>\n",
       "      <th>3</th>\n",
       "      <td>4</td>\n",
       "      <td>James Madison</td>\n",
       "      <td>163</td>\n",
       "      <td>16</td>\n",
       "    </tr>\n",
       "    <tr>\n",
       "      <th>4</th>\n",
       "      <td>5</td>\n",
       "      <td>James Monroe</td>\n",
       "      <td>183</td>\n",
       "      <td>18</td>\n",
       "    </tr>\n",
       "  </tbody>\n",
       "</table>\n",
       "</div>"
      ],
      "text/plain": [
       "   order               name  height(cm)  height_floor_divide\n",
       "0      1  George Washington         189                   18\n",
       "1      2         John Adams         170                   17\n",
       "2      3   Thomas Jefferson         189                   18\n",
       "3      4      James Madison         163                   16\n",
       "4      5       James Monroe         183                   18"
      ]
     },
     "execution_count": 174,
     "metadata": {},
     "output_type": "execute_result"
    }
   ],
   "source": [
    "data.head()"
   ]
  },
  {
   "cell_type": "code",
   "execution_count": 176,
   "id": "c50f115b-a8aa-4a82-9a5a-7a522223ffa3",
   "metadata": {},
   "outputs": [],
   "source": [
    "power = 2\n",
    "data['height_power'] = np.power(data['height(cm)'], power)"
   ]
  },
  {
   "cell_type": "code",
   "execution_count": 178,
   "id": "49bb35dd-af15-4694-b3bd-1f124a372ab5",
   "metadata": {},
   "outputs": [
    {
     "data": {
      "text/html": [
       "<div>\n",
       "<style scoped>\n",
       "    .dataframe tbody tr th:only-of-type {\n",
       "        vertical-align: middle;\n",
       "    }\n",
       "\n",
       "    .dataframe tbody tr th {\n",
       "        vertical-align: top;\n",
       "    }\n",
       "\n",
       "    .dataframe thead th {\n",
       "        text-align: right;\n",
       "    }\n",
       "</style>\n",
       "<table border=\"1\" class=\"dataframe\">\n",
       "  <thead>\n",
       "    <tr style=\"text-align: right;\">\n",
       "      <th></th>\n",
       "      <th>order</th>\n",
       "      <th>name</th>\n",
       "      <th>height(cm)</th>\n",
       "      <th>height_floor_divide</th>\n",
       "      <th>height_power</th>\n",
       "    </tr>\n",
       "  </thead>\n",
       "  <tbody>\n",
       "    <tr>\n",
       "      <th>0</th>\n",
       "      <td>1</td>\n",
       "      <td>George Washington</td>\n",
       "      <td>189</td>\n",
       "      <td>18</td>\n",
       "      <td>35721</td>\n",
       "    </tr>\n",
       "    <tr>\n",
       "      <th>1</th>\n",
       "      <td>2</td>\n",
       "      <td>John Adams</td>\n",
       "      <td>170</td>\n",
       "      <td>17</td>\n",
       "      <td>28900</td>\n",
       "    </tr>\n",
       "    <tr>\n",
       "      <th>2</th>\n",
       "      <td>3</td>\n",
       "      <td>Thomas Jefferson</td>\n",
       "      <td>189</td>\n",
       "      <td>18</td>\n",
       "      <td>35721</td>\n",
       "    </tr>\n",
       "    <tr>\n",
       "      <th>3</th>\n",
       "      <td>4</td>\n",
       "      <td>James Madison</td>\n",
       "      <td>163</td>\n",
       "      <td>16</td>\n",
       "      <td>26569</td>\n",
       "    </tr>\n",
       "    <tr>\n",
       "      <th>4</th>\n",
       "      <td>5</td>\n",
       "      <td>James Monroe</td>\n",
       "      <td>183</td>\n",
       "      <td>18</td>\n",
       "      <td>33489</td>\n",
       "    </tr>\n",
       "  </tbody>\n",
       "</table>\n",
       "</div>"
      ],
      "text/plain": [
       "   order               name  height(cm)  height_floor_divide  height_power\n",
       "0      1  George Washington         189                   18         35721\n",
       "1      2         John Adams         170                   17         28900\n",
       "2      3   Thomas Jefferson         189                   18         35721\n",
       "3      4      James Madison         163                   16         26569\n",
       "4      5       James Monroe         183                   18         33489"
      ]
     },
     "execution_count": 178,
     "metadata": {},
     "output_type": "execute_result"
    }
   ],
   "source": [
    "data.head()"
   ]
  },
  {
   "cell_type": "code",
   "execution_count": 180,
   "id": "b9e3cdb6-b3cf-4b48-83bc-1c20b705fb24",
   "metadata": {},
   "outputs": [],
   "source": [
    "divisor_mod = 7\n",
    "data['height_mod'] = np.mod(data['height(cm)'], divisor_mod)"
   ]
  },
  {
   "cell_type": "code",
   "execution_count": 182,
   "id": "95312110-d182-4f23-9cd7-263b6eca04b7",
   "metadata": {},
   "outputs": [
    {
     "data": {
      "text/html": [
       "<div>\n",
       "<style scoped>\n",
       "    .dataframe tbody tr th:only-of-type {\n",
       "        vertical-align: middle;\n",
       "    }\n",
       "\n",
       "    .dataframe tbody tr th {\n",
       "        vertical-align: top;\n",
       "    }\n",
       "\n",
       "    .dataframe thead th {\n",
       "        text-align: right;\n",
       "    }\n",
       "</style>\n",
       "<table border=\"1\" class=\"dataframe\">\n",
       "  <thead>\n",
       "    <tr style=\"text-align: right;\">\n",
       "      <th></th>\n",
       "      <th>order</th>\n",
       "      <th>name</th>\n",
       "      <th>height(cm)</th>\n",
       "      <th>height_floor_divide</th>\n",
       "      <th>height_power</th>\n",
       "      <th>height_mod</th>\n",
       "    </tr>\n",
       "  </thead>\n",
       "  <tbody>\n",
       "    <tr>\n",
       "      <th>0</th>\n",
       "      <td>1</td>\n",
       "      <td>George Washington</td>\n",
       "      <td>189</td>\n",
       "      <td>18</td>\n",
       "      <td>35721</td>\n",
       "      <td>0</td>\n",
       "    </tr>\n",
       "    <tr>\n",
       "      <th>1</th>\n",
       "      <td>2</td>\n",
       "      <td>John Adams</td>\n",
       "      <td>170</td>\n",
       "      <td>17</td>\n",
       "      <td>28900</td>\n",
       "      <td>2</td>\n",
       "    </tr>\n",
       "    <tr>\n",
       "      <th>2</th>\n",
       "      <td>3</td>\n",
       "      <td>Thomas Jefferson</td>\n",
       "      <td>189</td>\n",
       "      <td>18</td>\n",
       "      <td>35721</td>\n",
       "      <td>0</td>\n",
       "    </tr>\n",
       "    <tr>\n",
       "      <th>3</th>\n",
       "      <td>4</td>\n",
       "      <td>James Madison</td>\n",
       "      <td>163</td>\n",
       "      <td>16</td>\n",
       "      <td>26569</td>\n",
       "      <td>2</td>\n",
       "    </tr>\n",
       "    <tr>\n",
       "      <th>4</th>\n",
       "      <td>5</td>\n",
       "      <td>James Monroe</td>\n",
       "      <td>183</td>\n",
       "      <td>18</td>\n",
       "      <td>33489</td>\n",
       "      <td>1</td>\n",
       "    </tr>\n",
       "  </tbody>\n",
       "</table>\n",
       "</div>"
      ],
      "text/plain": [
       "   order               name  height(cm)  height_floor_divide  height_power  \\\n",
       "0      1  George Washington         189                   18         35721   \n",
       "1      2         John Adams         170                   17         28900   \n",
       "2      3   Thomas Jefferson         189                   18         35721   \n",
       "3      4      James Madison         163                   16         26569   \n",
       "4      5       James Monroe         183                   18         33489   \n",
       "\n",
       "   height_mod  \n",
       "0           0  \n",
       "1           2  \n",
       "2           0  \n",
       "3           2  \n",
       "4           1  "
      ]
     },
     "execution_count": 182,
     "metadata": {},
     "output_type": "execute_result"
    }
   ],
   "source": [
    "data.head()"
   ]
  },
  {
   "cell_type": "markdown",
   "id": "93be0ee6-e55b-4dae-b383-bfe97785135a",
   "metadata": {},
   "source": [
    "<style>\n",
    "    .font12 { font-size: 12px; }\n",
    "</style>\n",
    "\n",
    "<div class=\"font12\">\n",
    "\n",
    "### Aggregation Functions on Dataset\n",
    "\n",
    "Aggregation functions summarize data by performing operations such as sum, mean, or standard deviation. In NumPy, functions like `np.sum()`, `np.mean()`, and `np.std()` are used to calculate the total, average, and variability of data, respectively. Additionally, functions such as `np.min()` and `np.max()` find the minimum and maximum values, `np.prod()` calculates the product of elements, `np.median()` finds the median, `np.percentile()` calculates percentiles, and `np.all()` and `np.any()` test whether all or any elements satisfy a condition. These functions are essential for data analysis, providing insights into the overall characteristics of a dataset.\n",
    "\n",
    "</div>\n"
   ]
  },
  {
   "cell_type": "code",
   "execution_count": 189,
   "id": "9eba9045-95ab-4403-9e0b-a9a891d8b19e",
   "metadata": {},
   "outputs": [
    {
     "name": "stdout",
     "output_type": "stream",
     "text": [
      "Minimum Height: 163\n"
     ]
    }
   ],
   "source": [
    "min_height = np.min(data['height(cm)'])\n",
    "print(\"Minimum Height:\", min_height)"
   ]
  },
  {
   "cell_type": "code",
   "execution_count": 191,
   "id": "ce13d368-51a0-4fc3-a307-33082449964e",
   "metadata": {},
   "outputs": [
    {
     "name": "stdout",
     "output_type": "stream",
     "text": [
      "Maximum Height: 193\n"
     ]
    }
   ],
   "source": [
    "max_height = np.max(data['height(cm)'])\n",
    "print(\"Maximum Height:\", max_height)"
   ]
  },
  {
   "cell_type": "code",
   "execution_count": 193,
   "id": "e118bc68-435a-45d3-9095-e776adca09a6",
   "metadata": {},
   "outputs": [
    {
     "name": "stdout",
     "output_type": "stream",
     "text": [
      "Sum of Heights: 7549\n"
     ]
    }
   ],
   "source": [
    "total_height = np.sum(data['height(cm)'])\n",
    "print(\"Sum of Heights:\", total_height)"
   ]
  },
  {
   "cell_type": "code",
   "execution_count": 195,
   "id": "72b71dbc-c13c-4ccb-9e06-8cb769f4b710",
   "metadata": {},
   "outputs": [
    {
     "name": "stdout",
     "output_type": "stream",
     "text": [
      "Product of Heights: -570425344\n"
     ]
    }
   ],
   "source": [
    "product_height = np.prod(data['height(cm)'])\n",
    "print(\"Product of Heights:\", product_height)"
   ]
  },
  {
   "cell_type": "code",
   "execution_count": 197,
   "id": "cd3e9176-56bd-413a-96da-fe8d2b9b2624",
   "metadata": {},
   "outputs": [
    {
     "name": "stdout",
     "output_type": "stream",
     "text": [
      "Median Height: 182.0\n"
     ]
    }
   ],
   "source": [
    "median_height = np.median(data['height(cm)'])\n",
    "print(\"Median Height:\", median_height)"
   ]
  },
  {
   "cell_type": "code",
   "execution_count": 199,
   "id": "2b474741-e8c4-4fc5-8722-b81e976ff241",
   "metadata": {},
   "outputs": [
    {
     "name": "stdout",
     "output_type": "stream",
     "text": [
      "25th Percentile Height: 174.25\n",
      "75th Percentile Height: 183.0\n"
     ]
    }
   ],
   "source": [
    "percentile_25 = np.percentile(data['height(cm)'], 25)\n",
    "percentile_75 = np.percentile(data['height(cm)'], 75)\n",
    "print(\"25th Percentile Height:\", percentile_25)\n",
    "print(\"75th Percentile Height:\", percentile_75)"
   ]
  },
  {
   "cell_type": "code",
   "execution_count": 201,
   "id": "f4612a52-78b5-4c08-a423-38c491ff06db",
   "metadata": {},
   "outputs": [
    {
     "name": "stdout",
     "output_type": "stream",
     "text": [
      "All heights above 150 cm: True\n"
     ]
    }
   ],
   "source": [
    "all_heights_above_150 = np.all(data['height(cm)'] > 150)\n",
    "print(\"All heights above 150 cm:\", all_heights_above_150)"
   ]
  },
  {
   "cell_type": "code",
   "execution_count": 203,
   "id": "6b8787bb-89fe-46e6-af00-10af70d63aa9",
   "metadata": {},
   "outputs": [
    {
     "name": "stdout",
     "output_type": "stream",
     "text": [
      "Any height below 160 cm: False\n"
     ]
    }
   ],
   "source": [
    "any_height_below_160 = np.any(data['height(cm)'] < 160)\n",
    "print(\"Any height below 160 cm:\", any_height_below_160)"
   ]
  }
 ],
 "metadata": {
  "kernelspec": {
   "display_name": "Python 3 (ipykernel)",
   "language": "python",
   "name": "python3"
  },
  "language_info": {
   "codemirror_mode": {
    "name": "ipython",
    "version": 3
   },
   "file_extension": ".py",
   "mimetype": "text/x-python",
   "name": "python",
   "nbconvert_exporter": "python",
   "pygments_lexer": "ipython3",
   "version": "3.9.12"
  }
 },
 "nbformat": 4,
 "nbformat_minor": 5
}
