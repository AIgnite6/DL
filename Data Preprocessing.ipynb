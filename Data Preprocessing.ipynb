{
 "cells": [
  {
   "cell_type": "markdown",
   "id": "bef37a01",
   "metadata": {},
   "source": [
    "# <div style=\"text-align: center; font-size: 20px;\">Experiment No. 3</div>\n",
    "\n",
    "## <span style=\"font-size: 15px;\">Title:  Data Preprocessing Reading the Dataset Handling Missing Data Conversion to theTensorFormat</span>\n",
    "\n",
    "## <span style=\"font-size: 15px;\">Aim:  Data Preprocessing Reading the Dataset Handling Missing Data Conversion to theTensorFormat</span>\n",
    "\n",
    "## <span style=\"font-size: 15px;\">Theory:</span>"
   ]
  },
  {
   "cell_type": "markdown",
   "id": "bb18e840",
   "metadata": {},
   "source": [
    "<style>\n",
    "    .font12 { font-size: 12px; }\n",
    "</style>\n",
    "\n",
    "<div class=\"font12\">\n",
    "\n",
    "#### Data preprocessing:\n",
    "Data preprocessing is a crucial step in the data analysis and machine learning pipeline. It involves cleaning, transforming, and preparing the data to be used in machine learning models. Let's go through the steps of data preprocessing, including reading the dataset, handling missing data, and converting the data into the tensor format.\n",
    "\n",
    "**Step 1) Reading the Dataset:**\n",
    "\n",
    "To read a dataset into Python, you can use various libraries such as NumPy, Pandas, or TensorFlow (tf.data) depending on the format of your data. Pandas is a popular choice for handling tabular data.  \n",
    "</div>"
   ]
  },
  {
   "cell_type": "code",
   "execution_count": 2,
   "id": "11aadcf1",
   "metadata": {},
   "outputs": [
    {
     "name": "stdout",
     "output_type": "stream",
     "text": [
      "      Name   Age  Gender  Salary\n",
      "0    Alice  25.0  Female   50000\n",
      "1      Bob  30.0    Male   60000\n",
      "2  Charlie   NaN    Male   45000\n",
      "3    David  28.0    Male   70000\n",
      "4      Eva  35.0  Female   55000\n"
     ]
    }
   ],
   "source": [
    "import pandas as pd\n",
    "\n",
    "df = pd.read_csv('DataSet.csv') #Read a CSV file into a Pandas DataFrame\n",
    "print(df)"
   ]
  },
  {
   "cell_type": "markdown",
   "id": "e1fb8892",
   "metadata": {},
   "source": [
    "<style>\n",
    "    .font12 { font-size: 12px; }\n",
    "</style>\n",
    "\n",
    "<div class=\"font12\">\n",
    "\n",
    "**Step 2) Handling Missing Data:**\n",
    "\n",
    "Missing data is a common issue in datasets. You need to handle missing data appropriately to avoid biased or incorrect results in your analysis or model training\n",
    "</div>"
   ]
  },
  {
   "cell_type": "code",
   "execution_count": 3,
   "id": "b9c0123f",
   "metadata": {},
   "outputs": [
    {
     "name": "stdout",
     "output_type": "stream",
     "text": [
      "Name      0\n",
      "Age       1\n",
      "Gender    0\n",
      "Salary    0\n",
      "dtype: int64\n",
      "      Name   Age  Gender  Salary\n",
      "0    Alice  25.0       0   50000\n",
      "1      Bob  30.0       1   60000\n",
      "2  Charlie  29.5       1   45000\n",
      "3    David  28.0       1   70000\n",
      "4      Eva  35.0       0   55000\n"
     ]
    }
   ],
   "source": [
    "print(df.isnull().sum()) #Check for missing values in the DataFrame\n",
    "\n",
    "#Option 1: Drop rows with missing values\n",
    "#df = df.dropna()\n",
    "\n",
    "#Option 2: Fill missing values with a specific value (e.g. mean, median, or custom value)\n",
    "mean_age = df['Age'].mean()\n",
    "df['Age'].fillna(mean_age, inplace=True)\n",
    "#df = pd.DataFrame(df)\n",
    "\n",
    "df['Gender'] = df['Gender'].map({'Male':1, 'Female':0})\n",
    "print(df)"
   ]
  },
  {
   "cell_type": "markdown",
   "id": "b89ae548",
   "metadata": {},
   "source": [
    "<style>\n",
    "    .font12 { font-size: 12px; }\n",
    "</style>\n",
    "\n",
    "<div class=\"font12\">\n",
    "\n",
    "**Step 3) Conversion to the Tensor Format:**\n",
    "\n",
    "Machine learning models, especially those built with TensorFlow, often require data in tensor format. A tensor is a multi-dimensional array\n",
    "</div>\n",
    "\n"
   ]
  },
  {
   "cell_type": "code",
   "execution_count": 6,
   "id": "0b71b022",
   "metadata": {},
   "outputs": [
    {
     "name": "stdout",
     "output_type": "stream",
     "text": [
      "\n",
      " X tensor \n",
      " tf.Tensor(\n",
      "[[ 0.  25. ]\n",
      " [ 1.  30. ]\n",
      " [ 1.  29.5]\n",
      " [ 1.  28. ]\n",
      " [ 0.  35. ]], shape=(5, 2), dtype=float32)\n",
      "\n",
      " Y tensor \n",
      " tf.Tensor([50000 60000 45000 70000 55000], shape=(5,), dtype=int32)\n"
     ]
    },
    {
     "name": "stderr",
     "output_type": "stream",
     "text": [
      "C:\\Users\\Sanika\\AppData\\Local\\Temp\\ipykernel_13576\\2201011612.py:6: FutureWarning: Passing a set as an indexer is deprecated and will raise in a future version. Use a list instead.\n",
      "  X = df[{'Age', 'Gender'}].values\n"
     ]
    }
   ],
   "source": [
    "import numpy as np\n",
    "import tensorflow as tf\n",
    "\n",
    "\n",
    "# Extract features and Labels from the DataFrame\n",
    "X = df[{'Age', 'Gender'}].values\n",
    "y = df['Salary'].values\n",
    "\n",
    "\n",
    "#Convert to Tensorflow tensors\n",
    "X_tensor = tf.constant(X, dtype=tf.float32)\n",
    "y_tensor = tf.constant(y, dtype=tf.int32)\n",
    "\n",
    "\n",
    "#Alternatively, you can use Nupy arrays directly as Tensorflow tensors\n",
    "X_tensor = tf.convert_to_tensor(X, dtype=tf.float32)\n",
    "y_tensor = tf.convert_to_tensor(y, dtype=tf.int32)\n",
    "\n",
    "\n",
    "print(\"\\n X tensor \\n\",X_tensor)\n",
    "print(\"\\n Y tensor \\n\",y_tensor)"
   ]
  },
  {
   "cell_type": "markdown",
   "id": "2e67315d",
   "metadata": {},
   "source": [
    "<style>\n",
    "    .font12 { font-size: 12px; }\n",
    "</style>\n",
    "\n",
    "<div class=\"font12\">\n",
    "\n",
    "**Conclusion:**\n",
    "\n",
    "Successful installation of essential library, Data Preprocessing Reading the Dataset Handling Missing Data Conversion to the Tensor Format.\n",
    "</div>"
   ]
  }
 ],
 "metadata": {
  "kernelspec": {
   "display_name": "Python 3 (ipykernel)",
   "language": "python",
   "name": "python3"
  },
  "language_info": {
   "codemirror_mode": {
    "name": "ipython",
    "version": 3
   },
   "file_extension": ".py",
   "mimetype": "text/x-python",
   "name": "python",
   "nbconvert_exporter": "python",
   "pygments_lexer": "ipython3",
   "version": "3.9.12"
  }
 },
 "nbformat": 4,
 "nbformat_minor": 5
}
