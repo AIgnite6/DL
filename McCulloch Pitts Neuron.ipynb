{
 "cells": [
  {
   "cell_type": "markdown",
   "id": "bcdd0327",
   "metadata": {},
   "source": [
    "# <div style=\"text-align: center; font-size: 20px;\">Experiment No. 5</div>\n",
    "\n",
    "## <span style=\"font-size: 15px;\">Title:  Implement McCulloch Pitts neural network using Tensorflow. </span>\n",
    "\n",
    "## <span style=\"font-size: 15px;\">Aim:  To Implement McCulloch Pitts neural network using Tensorflow. </span>\n",
    "\n",
    "## <span style=\"font-size: 15px;\">Theory:</span>"
   ]
  },
  {
   "cell_type": "markdown",
   "id": "5047d9b8",
   "metadata": {},
   "source": [
    "<style>\n",
    "    .font12 { font-size: 12px; }\n",
    "</style>\n",
    "\n",
    "<div class=\"font12\">\n",
    "\n",
    "**McCulloch Pitts neural network:** \n",
    "The McCulloch-Pitts neuron, also known as the McCulloch-Pitts model, is a simplified mathematical model \n",
    "of a biological neuron. It was introduced by Warren McCulloch and Walter Pitts in 1943. The McCulloch-Pitts \n",
    "neuron is a foundational concept in neural network theory and serves as the basis for understanding more \n",
    "complex artificial neural networks.<br><br> \n",
    "The McCulloch-Pitts neuron operates using binary logic (0 or 1) and consists of the following components: <br>\n",
    "1. Inputs: Each neuron receives binary inputs (0 or 1) from various sources, which represent the incoming<br> \n",
    "signals from other neurons or external stimuli.<br><br> \n",
    "2. Weights: Each input is assigned a weight that represents the strength of the connection between the input<br> \n",
    "and the neuron. The weights can be positive or negative.<br><br> \n",
    "3. Threshold: The neuron has a threshold value that determines the level of activation required for it to fire<br> \n",
    "an output signal.<br><br> \n",
    "4. Activation Function: The McCulloch-Pitts neuron applies a simple activation function. It sums the products \n",
    "of inputs and their corresponding weights and compares this sum to the threshold. If the sum is greater than \n",
    "or equal to the threshold, the neuron outputs 1; otherwise, it outputs 0.<br><br> \n",
    "Mathematically, the output of the McCulloch-Pitts neuron can be represented as:<br><br> \n",
    "Output = 1 if Σ(w_i * x_i) ≥ θ (threshold)<br>\n",
    "Output = 0 if Σ(w_i * x_i) < θ <br>  \n",
    "\n",
    "This basic neuron model can be used to create logical circuits and perform simple binary computations. It \n",
    "serves as a building block for more complex neural network architectures, such as perceptrons and multi\n",
    "layer perceptrons, which have enhanced capabilities for pattern recognition and classification.<br><br><br><br><br><br><br><br><br><br> \n",
    "**Single Layer Neural Network:** <br><br>\n",
    "A single-layer neural network, often referred to as a single-layer perceptron, is a type of \n",
    "artificial neural network architecture that consists of only one layer of interconnected \n",
    "neurons. It is a basic and elementary form of a neural network, and it can be used for \n",
    "simple linear classification tasks. <br><br>\n",
    "Here's how a single-layer perceptron works: <br>\n",
    "1. Inputs:Similar to the McCulloch-Pitts neuron, a single-layer perceptron receives inputs\n",
    "(features) from the external world. Each input is associated with a weight, which represents \n",
    "the strength of the connection between the input and the neuron.<br><br> \n",
    "2. Weights: The weights are multiplied by their corresponding inputs, and the resulting \n",
    "weighted inputs are summed up. Mathematically, this can be represented as: \n",
    "Weighted Sum = Σ(w_i * x_i)<br><br> \n",
    "3. Bias:In addition to weights and inputs, a bias term is often included. The bias is a \n",
    "constant value that is added to the weighted sum before applying the activation function. It \n",
    "allows the network to control the threshold at which the neuron fires.<br><br>\n",
    "4. Activation Function:The weighted sum (including the bias) is then passed through an \n",
    "activation function. Common activation functions include the step function (similar to \n",
    "McCulloch-Pitts threshold), sigmoid function, or ReLU (Rectified Linear Unit). The activation \n",
    "function determines the output of the neuron based on the computed value. \n",
    "Output = Activation_Function(Weighted Sum + Bias) <br><br>\n",
    "5. Output: The final output of the single-layer perceptron is the result of applying the \n",
    "activation function to the weighted sum of inputs.<br><br><br><br>\n",
    "    \n",
    "**Output McCulloch Pitts neural network**\n",
    "\n",
    "</div>"
   ]
  },
  {
   "cell_type": "markdown",
   "id": "51c999ec",
   "metadata": {},
   "source": [
    "**AND Gate**"
   ]
  },
  {
   "cell_type": "code",
   "execution_count": 19,
   "id": "2aab63cc",
   "metadata": {},
   "outputs": [
    {
     "name": "stdout",
     "output_type": "stream",
     "text": [
      "[0, 0] -> 0\n",
      "[0, 1] -> 0\n",
      "[1, 0] -> 0\n",
      "[1, 1] -> 1\n"
     ]
    }
   ],
   "source": [
    "class McCullochPittsNeuron:\n",
    "    def __init__(self, weights, threshold):\n",
    "        self.weights = weights\n",
    "        self.threshold = threshold\n",
    "\n",
    "    def activate(self, inputs):\n",
    "        if len(inputs) != len(self.weights):\n",
    "            raise ValueError(\"Number of inputs should match the number of weights\")\n",
    "        result = sum([inputs[i] * self.weights[i] for i in range(len(inputs))])\n",
    "        return 1 if result >= self.threshold else 0\n",
    "\n",
    "def main():\n",
    "    # Define the weights and threshold for the AND gate\n",
    "    and_gate_weights = [1, 1]\n",
    "    and_gate_threshold = 2\n",
    "\n",
    "    # Create a McCulloch-Pitts neuron for the AND gate\n",
    "    and_gate_neuron = McCullochPittsNeuron(and_gate_weights, and_gate_threshold)\n",
    "\n",
    "    # Test the AND gate\n",
    "    inputs = [\n",
    "        [0, 0],\n",
    "        [0, 1],\n",
    "        [1, 0],\n",
    "        [1, 1]\n",
    "    ]\n",
    "\n",
    "    for input_pair in inputs:\n",
    "        output = and_gate_neuron.activate(input_pair)\n",
    "        print(f\"{input_pair} -> {output}\")\n",
    "\n",
    "if __name__ == \"__main__\":\n",
    "    main()\n"
   ]
  },
  {
   "cell_type": "markdown",
   "id": "8b948258",
   "metadata": {},
   "source": [
    "**OR Gate**"
   ]
  },
  {
   "cell_type": "code",
   "execution_count": 20,
   "id": "3632fcff",
   "metadata": {},
   "outputs": [
    {
     "name": "stdout",
     "output_type": "stream",
     "text": [
      "[0, 0] -> 0\n",
      "[0, 1] -> 1\n",
      "[1, 0] -> 1\n",
      "[1, 1] -> 1\n"
     ]
    }
   ],
   "source": [
    "class McCullochPittsNeuron:\n",
    "    def __init__(self, weights, threshold):\n",
    "        self.weights = weights\n",
    "        self.threshold = threshold\n",
    "\n",
    "    def activate(self, inputs):\n",
    "        if len(inputs) != len(self.weights):\n",
    "            raise ValueError(\"Number of inputs should match the number of weights\")\n",
    "        result = sum([inputs[i] * self.weights[i] for i in range(len(inputs))])\n",
    "        return 1 if result >= self.threshold else 0\n",
    "\n",
    "def main():\n",
    "    # Define the weights and threshold for the OR gate\n",
    "    or_gate_weights = [1, 1]\n",
    "    or_gate_threshold = 1\n",
    "\n",
    "    # Create a McCulloch-Pitts neuron for the OR gate\n",
    "    or_gate_neuron = McCullochPittsNeuron(or_gate_weights, or_gate_threshold)\n",
    "\n",
    "    # Test the OR gate\n",
    "    inputs = [\n",
    "        [0, 0],\n",
    "        [0, 1],\n",
    "        [1, 0],\n",
    "        [1, 1]\n",
    "    ]\n",
    "\n",
    "    for input_pair in inputs:\n",
    "        output = or_gate_neuron.activate(input_pair)\n",
    "        print(f\"{input_pair} -> {output}\")\n",
    "\n",
    "if __name__ == \"__main__\":\n",
    "    main()\n"
   ]
  },
  {
   "cell_type": "markdown",
   "id": "2ed0a5eb",
   "metadata": {},
   "source": [
    "**NAND Gate**"
   ]
  },
  {
   "cell_type": "code",
   "execution_count": 21,
   "id": "09d5fd75",
   "metadata": {},
   "outputs": [
    {
     "name": "stdout",
     "output_type": "stream",
     "text": [
      "[0, 0] -> 1\n",
      "[0, 1] -> 1\n",
      "[1, 0] -> 1\n",
      "[1, 1] -> 0\n"
     ]
    }
   ],
   "source": [
    "class McCullochPittsNeuron:\n",
    "    def __init__(self, weights, threshold):\n",
    "        self.weights = weights\n",
    "        self.threshold = threshold\n",
    "\n",
    "    def activate(self, inputs):\n",
    "        if len(inputs) != len(self.weights):\n",
    "            raise ValueError(\"Number of inputs should match the number of weights\")\n",
    "        result = sum([inputs[i] * self.weights[i] for i in range(len(inputs))])\n",
    "        return 0 if result >= self.threshold else 1\n",
    "\n",
    "def main():\n",
    "    # Define the weights and threshold for the NAND gate\n",
    "    nand_gate_weights = [1, 1]\n",
    "    nand_gate_threshold = 2\n",
    "\n",
    "    # Create a McCulloch-Pitts neuron for the NAND gate\n",
    "    nand_gate_neuron = McCullochPittsNeuron(nand_gate_weights, nand_gate_threshold)\n",
    "\n",
    "    # Test the NAND gate\n",
    "    inputs = [\n",
    "        [0, 0],\n",
    "        [0, 1],\n",
    "        [1, 0],\n",
    "        [1, 1]\n",
    "    ]\n",
    "\n",
    "    for input_pair in inputs:\n",
    "        output = nand_gate_neuron.activate(input_pair)\n",
    "        print(f\"{input_pair} -> {output}\")\n",
    "\n",
    "if __name__ == \"__main__\":\n",
    "    main()\n"
   ]
  },
  {
   "cell_type": "markdown",
   "id": "e547439d",
   "metadata": {},
   "source": [
    "**NOR Gate**"
   ]
  },
  {
   "cell_type": "code",
   "execution_count": 22,
   "id": "4b26ca37",
   "metadata": {},
   "outputs": [
    {
     "name": "stdout",
     "output_type": "stream",
     "text": [
      "[0, 0] -> 1\n",
      "[0, 1] -> 0\n",
      "[1, 0] -> 0\n",
      "[1, 1] -> 0\n"
     ]
    }
   ],
   "source": [
    "class McCullochPittsNeuron:\n",
    "    def __init__(self, weights, threshold):\n",
    "        self.weights = weights\n",
    "        self.threshold = threshold\n",
    "\n",
    "    def activate(self, inputs):\n",
    "        if len(inputs) != len(self.weights):\n",
    "            raise ValueError(\"Number of inputs should match the number of weights\")\n",
    "        result = sum([inputs[i] * self.weights[i] for i in range(len(inputs))])\n",
    "        return 0 if result >= self.threshold else 1\n",
    "\n",
    "def main():\n",
    "    # Define the weights and threshold for the NOR gate\n",
    "    nor_gate_weights = [1, 1]\n",
    "    nor_gate_threshold = 1\n",
    "\n",
    "    # Create a McCulloch-Pitts neuron for the NOR gate\n",
    "    nor_gate_neuron = McCullochPittsNeuron(nor_gate_weights, nor_gate_threshold)\n",
    "\n",
    "    # Test the NOR gate\n",
    "    inputs = [\n",
    "        [0, 0],\n",
    "        [0, 1],\n",
    "        [1, 0],\n",
    "        [1, 1]\n",
    "    ]\n",
    "\n",
    "    for input_pair in inputs:\n",
    "        output = nor_gate_neuron.activate(input_pair)\n",
    "        print(f\"{input_pair} -> {output}\")\n",
    "\n",
    "if __name__ == \"__main__\":\n",
    "    main()\n"
   ]
  },
  {
   "cell_type": "markdown",
   "id": "d910bafb",
   "metadata": {},
   "source": [
    "**Output of single-layer perceptron**\n"
   ]
  },
  {
   "cell_type": "markdown",
   "id": "811d623c",
   "metadata": {},
   "source": [
    "**OR Gate**"
   ]
  },
  {
   "cell_type": "code",
   "execution_count": 23,
   "id": "91a439bb",
   "metadata": {},
   "outputs": [
    {
     "name": "stdout",
     "output_type": "stream",
     "text": [
      "Converged after 9 epochs.\n",
      "Testing the perceptron:\n",
      "[0 0] -> 0\n",
      "[0 1] -> 1\n",
      "[1 0] -> 1\n",
      "[1 1] -> 1\n"
     ]
    }
   ],
   "source": [
    "import numpy as np\n",
    "\n",
    "class SingleLayerPerceptron:\n",
    "    def __init__(self, input_size):\n",
    "        self.weights = np.random.rand(input_size)\n",
    "        self.bias = np.random.rand()\n",
    "        self.learning_rate = 0.1\n",
    "\n",
    "    def predict(self, inputs):\n",
    "        net_input = np.dot(inputs, self.weights) + self.bias\n",
    "        return 1 if net_input >= 0 else 0\n",
    "\n",
    "    def train(self, training_data, epochs):\n",
    "        for epoch in range(epochs):\n",
    "            errors = 0\n",
    "            for inputs, label in training_data:\n",
    "                prediction = self.predict(inputs)\n",
    "                error = label - prediction\n",
    "                self.weights += self.learning_rate * error * inputs\n",
    "                self.bias += self.learning_rate * error\n",
    "                errors += abs(error)\n",
    "            if errors == 0:\n",
    "                print(f\"Converged after {epoch + 1} epochs.\")\n",
    "                break\n",
    "\n",
    "def main():\n",
    "    # Sample training data for OR gate\n",
    "    training_data = [\n",
    "        (np.array([0, 0]), 0),\n",
    "        (np.array([0, 1]), 1),\n",
    "        (np.array([1, 0]), 1),\n",
    "        (np.array([1, 1]), 1)\n",
    "    ]\n",
    "\n",
    "    input_size = len(training_data[0][0])\n",
    "    perceptron = SingleLayerPerceptron(input_size)\n",
    "\n",
    "    epochs = 100\n",
    "    perceptron.train(training_data, epochs)\n",
    "\n",
    "    # Test the trained perceptron\n",
    "    test_data = [\n",
    "        np.array([0, 0]),\n",
    "        np.array([0, 1]),\n",
    "        np.array([1, 0]),\n",
    "        np.array([1, 1])\n",
    "    ]\n",
    "\n",
    "    print(\"Testing the perceptron:\")\n",
    "    for inputs in test_data:\n",
    "        prediction = perceptron.predict(inputs)\n",
    "        print(f\"{inputs} -> {prediction}\")\n",
    "\n",
    "if __name__ == \"__main__\":\n",
    "    main()\n"
   ]
  },
  {
   "cell_type": "markdown",
   "id": "5a8a6ab6",
   "metadata": {},
   "source": [
    "**AND Gate**"
   ]
  },
  {
   "cell_type": "code",
   "execution_count": 24,
   "id": "b92db9af",
   "metadata": {},
   "outputs": [
    {
     "name": "stdout",
     "output_type": "stream",
     "text": [
      "Converged after 4 epochs.\n",
      "Testing the perceptron:\n",
      "[0 0] -> 0\n",
      "[0 1] -> 0\n",
      "[1 0] -> 0\n",
      "[1 1] -> 1\n"
     ]
    }
   ],
   "source": [
    "def main():\n",
    "    # Sample training data for AND gate\n",
    "    training_data = [\n",
    "        (np.array([0, 0]), 0),\n",
    "        (np.array([0, 1]), 0),\n",
    "        (np.array([1, 0]), 0),\n",
    "        (np.array([1, 1]), 1)\n",
    "    ]\n",
    "\n",
    "    input_size = len(training_data[0][0])\n",
    "    perceptron = SingleLayerPerceptron(input_size)\n",
    "\n",
    "    epochs = 100\n",
    "    perceptron.train(training_data, epochs)\n",
    "\n",
    "    # Test the trained perceptron\n",
    "    test_data = [\n",
    "        np.array([0, 0]),\n",
    "        np.array([0, 1]),\n",
    "        np.array([1, 0]),\n",
    "        np.array([1, 1])\n",
    "    ]\n",
    "\n",
    "    print(\"Testing the perceptron:\")\n",
    "    for inputs in test_data:\n",
    "        prediction = perceptron.predict(inputs)\n",
    "        print(f\"{inputs} -> {prediction}\")\n",
    "\n",
    "if __name__ == \"__main__\":\n",
    "    main()\n"
   ]
  },
  {
   "cell_type": "markdown",
   "id": "cdc18743",
   "metadata": {},
   "source": [
    "**NAND Gate**"
   ]
  },
  {
   "cell_type": "code",
   "execution_count": 25,
   "id": "9ac7b1ce",
   "metadata": {},
   "outputs": [
    {
     "name": "stdout",
     "output_type": "stream",
     "text": [
      "Converged after 7 epochs.\n",
      "Testing the perceptron:\n",
      "[0 0] -> 1\n",
      "[0 1] -> 1\n",
      "[1 0] -> 1\n",
      "[1 1] -> 0\n"
     ]
    }
   ],
   "source": [
    "def main():\n",
    "    # Sample training data for NAND gate\n",
    "    training_data = [\n",
    "        (np.array([0, 0]), 1),\n",
    "        (np.array([0, 1]), 1),\n",
    "        (np.array([1, 0]), 1),\n",
    "        (np.array([1, 1]), 0)\n",
    "    ]\n",
    "\n",
    "    input_size = len(training_data[0][0])\n",
    "    perceptron = SingleLayerPerceptron(input_size)\n",
    "\n",
    "    epochs = 100\n",
    "    perceptron.train(training_data, epochs)\n",
    "\n",
    "    # Test the trained perceptron\n",
    "    test_data = [\n",
    "        np.array([0, 0]),\n",
    "        np.array([0, 1]),\n",
    "        np.array([1, 0]),\n",
    "        np.array([1, 1])\n",
    "    ]\n",
    "\n",
    "    print(\"Testing the perceptron:\")\n",
    "    for inputs in test_data:\n",
    "        prediction = perceptron.predict(inputs)\n",
    "        print(f\"{inputs} -> {prediction}\")\n",
    "\n",
    "if __name__ == \"__main__\":\n",
    "    main()\n"
   ]
  },
  {
   "cell_type": "markdown",
   "id": "246853d5",
   "metadata": {},
   "source": [
    "**NOR Gate**"
   ]
  },
  {
   "cell_type": "code",
   "execution_count": 26,
   "id": "718fbdb0",
   "metadata": {},
   "outputs": [
    {
     "name": "stdout",
     "output_type": "stream",
     "text": [
      "Converged after 11 epochs.\n",
      "Testing the perceptron:\n",
      "[0 0] -> 1\n",
      "[0 1] -> 0\n",
      "[1 0] -> 0\n",
      "[1 1] -> 0\n"
     ]
    }
   ],
   "source": [
    "def main():\n",
    "    # Sample training data for NOR gate\n",
    "    training_data = [\n",
    "        (np.array([0, 0]), 1),\n",
    "        (np.array([0, 1]), 0),\n",
    "        (np.array([1, 0]), 0),\n",
    "        (np.array([1, 1]), 0)\n",
    "    ]\n",
    "\n",
    "    input_size = len(training_data[0][0])\n",
    "    perceptron = SingleLayerPerceptron(input_size)\n",
    "\n",
    "    epochs = 100\n",
    "    perceptron.train(training_data, epochs)\n",
    "\n",
    "    # Test the trained perceptron\n",
    "    test_data = [\n",
    "        np.array([0, 0]),\n",
    "        np.array([0, 1]),\n",
    "        np.array([1, 0]),\n",
    "        np.array([1, 1])\n",
    "    ]\n",
    "\n",
    "    print(\"Testing the perceptron:\")\n",
    "    for inputs in test_data:\n",
    "        prediction = perceptron.predict(inputs)\n",
    "        print(f\"{inputs} -> {prediction}\")\n",
    "\n",
    "if __name__ == \"__main__\":\n",
    "    main()\n"
   ]
  },
  {
   "cell_type": "markdown",
   "id": "829752f1",
   "metadata": {},
   "source": [
    "<style>\n",
    "    .font12 { font-size: 12px; }\n",
    "</style>\n",
    "\n",
    "<div class=\"font12\">\n",
    "\n",
    "**Conclusion:** \n",
    "Successful Implement McCulloch Pitts neural network using Tensorflow.\n",
    "\n",
    "</div>"
   ]
  }
 ],
 "metadata": {
  "kernelspec": {
   "display_name": "Python 3 (ipykernel)",
   "language": "python",
   "name": "python3"
  },
  "language_info": {
   "codemirror_mode": {
    "name": "ipython",
    "version": 3
   },
   "file_extension": ".py",
   "mimetype": "text/x-python",
   "name": "python",
   "nbconvert_exporter": "python",
   "pygments_lexer": "ipython3",
   "version": "3.9.12"
  }
 },
 "nbformat": 4,
 "nbformat_minor": 5
}
