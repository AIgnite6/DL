{
 "cells": [
  {
   "cell_type": "markdown",
   "id": "d4135573-f292-4557-b249-4dde532d0ed7",
   "metadata": {},
   "source": [
    "# <div style=\"text-align: center; font-size: 20px;\">Experiment No. 4</div>\n",
    "\n",
    "## <span style=\"font-size: 15px;\">Title:  Linear Algebra Tensors Tensor arithmetic Implementing matrix multiplication.</span>\n",
    "\n",
    "## <span style=\"font-size: 15px;\">Aim:  To Linear Algebra Tensors Tensor arithmetic Implementing matrix multiplication.</span>\n",
    "\n",
    "## <span style=\"font-size: 15px;\">Theory:<br><br></span>\n",
    "\n",
    "<style>\n",
    "    .font12 { font-size: 12px; }\n",
    "</style>\n",
    "\n",
    "<div class=\"font12\">\n",
    "\n",
    "Linear algebra plays a fundamental role in machine learning, and tensors are essential data structures used for representing multi-dimensional arrays. In this section, I'll cover basic tensor operations, tensor arithmetic, and how to implement matrix multiplication using NumPy.<br>\n",
    "\n",
    "A tensor is a generalization of vectors and matrices and is easily understood as a multidimensional array. A vector is a one-dimensional or first order tensor and a matrix is a two-dimensional or second order tensor.<br><br>\n",
    "\n",
    "**Step 1) Tensors and Tensor Arithmetic:**<br><br>\n",
    "Tensors are multi-dimensional arrays that generalize vectors and matrices to higher dimensions. In the context of linear algebra, vectors are 1-dimensional tensors, matrices are 2-dimensional tensors, and higher-dimensional tensors extend these concepts. Tensors are crucial for handling data in machine learning, enabling efficient operations on multi-dimensional datasets. Tensor arithmetic involves operations like addition, subtraction, and multiplication, which are performed element-wise or through specialized tensor operations like matrix multiplication. These operations are fundamental for tasks such as transforming data, optimizing models, and performing complex computations in neural networks.\n",
    "</div>"
   ]
  },
  {
   "cell_type": "code",
   "execution_count": 3,
   "id": "cf054abd-58cd-4c60-a20f-64bf6dd244dd",
   "metadata": {},
   "outputs": [
    {
     "name": "stdout",
     "output_type": "stream",
     "text": [
      "addition:  [5 7 9]\n",
      "subtraction:  [-3 -3 -3]\n",
      "multiplication:  [ 4 10 18]\n",
      "division:  [0.25 0.4  0.5 ]\n"
     ]
    }
   ],
   "source": [
    "import numpy as np\n",
    "\n",
    "#Creating tensor (arrays) using NumPy\n",
    "#1-D tensor (Vector) \n",
    "vector = np.array([1, 2, 3])\n",
    "\n",
    "#2-D tensor (Matrix)\n",
    "martrix = np.array([[1,2], [3,4]])\n",
    "\n",
    "#3-D tensor \n",
    "tensor_3d = np.array([[[1,2], [3,4]], [[5,6], [7,8]]])\n",
    "\n",
    "a = np.array([1, 2, 3])\n",
    "b = np.array([4, 5, 6])\n",
    "\n",
    "addition = a+b\n",
    "print(\"addition: \",addition)\n",
    "subtraction = a-b\n",
    "print(\"subtraction: \",subtraction)\n",
    "elementwise_multiplication = a*b\n",
    "print(\"multiplication: \",elementwise_multiplication)\n",
    "elementwise_division = a/b\n",
    "print(\"division: \",elementwise_division)"
   ]
  },
  {
   "cell_type": "markdown",
   "id": "7325d30a-0b6b-48bc-8f07-b8e402ad6793",
   "metadata": {},
   "source": [
    "<style>\n",
    "    .font12 { font-size: 12px; }\n",
    "</style>\n",
    "\n",
    "<div class=\"font12\">\n",
    "\n",
    "**Explanation:**\n",
    "\n",
    "**Addition:** Adds corresponding elements of two tensors.<br>\n",
    "**Subtraction:** Subtracts corresponding elements of two tensors.<br>\n",
    "**Element-wise Multiplication:** Multiplies corresponding elements of two tensors.<br>\n",
    "**Element-wise Division:** Divides corresponding elements of two tensors.\n",
    "</div>"
   ]
  },
  {
   "cell_type": "markdown",
   "id": "9b728622-d82d-483e-9100-c6b048ef64ed",
   "metadata": {},
   "source": [
    "<style>\n",
    "    .font12 { font-size: 12px; }\n",
    "</style>\n",
    "\n",
    "<div class=\"font12\">\n",
    "\n",
    "**Step 2) Implementing Matrix Multiplication:**<br><br> \n",
    "Matrix multiplication is a fundamental operation in linear algebra. In NumPy, you can use the `dot()` \n",
    "function or `@` operator to perform matrix multiplication. \n",
    "</div>"
   ]
  },
  {
   "cell_type": "code",
   "execution_count": 4,
   "id": "0f2f4191-b793-466b-9243-5034f8a3c9d8",
   "metadata": {},
   "outputs": [
    {
     "name": "stdout",
     "output_type": "stream",
     "text": [
      "Dot \n",
      " [[19 22]\n",
      " [43 50]]\n",
      "@ Operator \n",
      " [[19 22]\n",
      " [43 50]]\n"
     ]
    }
   ],
   "source": [
    "import numpy as np\n",
    "\n",
    "#Matrix multiplication using dot() function\n",
    "matrix_a = np.array([[1,2], [3,4]])\n",
    "matrix_b = np.array([[5,6], [7,8]])\n",
    "\n",
    "#Option 1: Use dot() funtion\n",
    "matrix_product = np.dot(matrix_a, matrix_b)\n",
    "print(\"Dot \\n\", matrix_product)\n",
    "\n",
    "#Option 2: Use @ operator \n",
    "matrix_product = matrix_a @ matrix_b\n",
    "print(\"@ Operator \\n\", matrix_product)"
   ]
  },
  {
   "cell_type": "markdown",
   "id": "55452cdb-8ead-467d-b3a3-94c73063ced3",
   "metadata": {},
   "source": [
    "<style>\n",
    "    .font12 { font-size: 12px; }\n",
    "</style>\n",
    "\n",
    "<div class=\"font12\">\n",
    "\n",
    "**Explanation:**\n",
    "\n",
    "**Dot Product:** `np.dot(matrix_a, matrix_b)` computes the dot product of two matrices.<br>\n",
    "**@ Operator:** The `@` operator performs matrix multiplication, which is equivalent to `np.dot()` but is more concise and preferred in modern Python.\n",
    "</div>"
   ]
  },
  {
   "cell_type": "markdown",
   "id": "adfd6fa6-c027-41ef-8d83-3a28c50176c9",
   "metadata": {
    "jp-MarkdownHeadingCollapsed": true
   },
   "source": [
    "<style>\n",
    "    .font12 { font-size: 12px; }\n",
    "</style>\n",
    "\n",
    "<div class=\"font12\">\n",
    "\n",
    "**Tensor Operations:** \n",
    "Operations on tensors include addition, subtraction, multiplication, and division. For tensors of different shapes, broadcasting rules apply to ensure that operations are performed correctly.\n",
    "\n",
    "**Broadcasting:** \n",
    "In NumPy, broadcasting allows you to perform arithmetic operations on tensors of different shapes. The smaller tensor is broadcasted to match the shape of the larger tensor.\n",
    "\n",
    "**Matrix Multiplication Rules:** \n",
    "For matrix multiplication, the number of columns in the first matrix must be equal to the number of rows in the second matrix. The result is a matrix where the number of rows is equal to the number of rows in the first matrix, and the number of columns is equal to the number of columns in the second matrix.nd matrix.\n",
    "\n",
    "</div>\n"
   ]
  },
  {
   "cell_type": "markdown",
   "id": "d095b7ba-2506-4798-a0a7-910efdd73289",
   "metadata": {},
   "source": [
    "<style>\n",
    "    .font12 { font-size: 12px; }\n",
    "</style>\n",
    "\n",
    "<div class=\"font12\">\n",
    "\n",
    "**Conclusion:** \n",
    "Successful Implement Linear Algebra Tensors Tensor arithmetic matrix multiplication.\n",
    "\n",
    "</div>"
   ]
  }
 ],
 "metadata": {
  "kernelspec": {
   "display_name": "Python 3 (ipykernel)",
   "language": "python",
   "name": "python3"
  },
  "language_info": {
   "codemirror_mode": {
    "name": "ipython",
    "version": 3
   },
   "file_extension": ".py",
   "mimetype": "text/x-python",
   "name": "python",
   "nbconvert_exporter": "python",
   "pygments_lexer": "ipython3",
   "version": "3.9.12"
  }
 },
 "nbformat": 4,
 "nbformat_minor": 5
}
