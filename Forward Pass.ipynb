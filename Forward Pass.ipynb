{
 "cells": [
  {
   "cell_type": "markdown",
   "id": "805357df",
   "metadata": {},
   "source": [
    "# <div style=\"text-align: center; font-size: 20px;\">Experiment No. 6</div>\n",
    "\n",
    "## <span style=\"font-size: 15px;\">Title:    Forward pass with matrix multiplication Forward pass with hidden layer (matrix multiplication) Forward pass with matrix multiplication with Keras Forward passes with hidden layer (matrix multiplication) with Keras. </span>\n",
    "\n",
    "## <span style=\"font-size: 15px;\">Aim:   To Implement Forward pass with matrix multiplication Forward pass with hidden layer Forward pass with matrix multiplication with Keras Forward passes with hidden layer with Keras.  </span>\n",
    "\n",
    "## <span style=\"font-size: 15px;\">Theory:</span>"
   ]
  },
  {
   "cell_type": "markdown",
   "id": "808ec098",
   "metadata": {},
   "source": [
    "<style>\n",
    "    .font12 { font-size: 12px; }\n",
    "</style>\n",
    "\n",
    "<div class=\"font12\">\n",
    "\n",
    "Overview of implementing forward passes using matrix multiplication and Keras for both a single-layer \n",
    "neural network (perceptron) and a multi-layer neural network (with a hidden layer): \n",
    " \n",
    "1) Forward Pass with Matrix Multiplication in Keras (Single-Layer Neural Network). \n",
    " \n",
    "2) Define a Keras model with a single layer: model  \n",
    " \n",
    "3) To perform the forward pass and obtain the output. \n",
    " \n",
    "4) Forward Pass with Hidden Layer in Keras (Multi-Layer Neural Network): \n",
    " \n",
    "5) Create input data. \n",
    " \n",
    "6) Define a Keras model with a hidden layer and an output layer. \n",
    " \n",
    "7) To perform the forward pass and obtain the output. \n",
    "\n",
    "</div>"
   ]
  },
  {
   "cell_type": "code",
   "execution_count": 3,
   "id": "f57fff45",
   "metadata": {},
   "outputs": [
    {
     "name": "stdout",
     "output_type": "stream",
     "text": [
      "Output without hidden layer:\n",
      "[[0.7 1. ]\n",
      " [1.5 2.2]\n",
      " [2.3 3.4]]\n"
     ]
    }
   ],
   "source": [
    "import numpy as np\n",
    "\n",
    "# Input data (a 3x2 matrix)\n",
    "input_data = np.array([[1, 2], [3, 4], [5, 6]])\n",
    "\n",
    "# Weight matrix (a 2x2 matrix)\n",
    "weights = np.array([[0.1, 0.2], [0.3, 0.4]])\n",
    "\n",
    "# Forward pass without a hidden layer (matrix multiplication)\n",
    "output_data = np.dot(input_data, weights)\n",
    "\n",
    "print(\"Output without hidden layer:\")\n",
    "print(output_data)"
   ]
  },
  {
   "cell_type": "code",
   "execution_count": 4,
   "id": "ebc882e5",
   "metadata": {},
   "outputs": [
    {
     "name": "stdout",
     "output_type": "stream",
     "text": [
      "Output with hidden layer:\n",
      "[[1.05 1.22]\n",
      " [2.29 2.66]\n",
      " [3.53 4.1 ]]\n"
     ]
    }
   ],
   "source": [
    "import numpy as np\n",
    "\n",
    "# Input data (a 3x2 matrix)\n",
    "input_data = np.array([[1, 2], [3, 4], [5, 6]])\n",
    "\n",
    "# Weight matrices (2 hidden units, 2 input features)\n",
    "weights_hidden = np.array([[0.1, 0.2], [0.3, 0.4]])\n",
    "\n",
    "# Weight matrices (2 output units, 2 hidden units)\n",
    "weights_output = np.array([[0.5, 0.6], [0.7, 0.8]])\n",
    "\n",
    "# Forward pass with a hidden layer (matrix multiplication)\n",
    "hidden_layer_output = np.dot(input_data, weights_hidden)\n",
    "output_data = np.dot(hidden_layer_output, weights_output)\n",
    "\n",
    "print(\"Output with hidden layer:\")\n",
    "print(output_data)\n"
   ]
  },
  {
   "cell_type": "code",
   "execution_count": 5,
   "id": "7e4a1265",
   "metadata": {},
   "outputs": [
    {
     "name": "stdout",
     "output_type": "stream",
     "text": [
      "WARNING:tensorflow:From C:\\anaconda\\lib\\site-packages\\keras\\src\\losses.py:2976: The name tf.losses.sparse_softmax_cross_entropy is deprecated. Please use tf.compat.v1.losses.sparse_softmax_cross_entropy instead.\n",
      "\n",
      "WARNING:tensorflow:From C:\\anaconda\\lib\\site-packages\\keras\\src\\backend.py:873: The name tf.get_default_graph is deprecated. Please use tf.compat.v1.get_default_graph instead.\n",
      "\n",
      "WARNING:tensorflow:From C:\\anaconda\\lib\\site-packages\\keras\\src\\optimizers\\__init__.py:309: The name tf.train.Optimizer is deprecated. Please use tf.compat.v1.train.Optimizer instead.\n",
      "\n",
      "1/1 [==============================] - 0s 278ms/step\n",
      "Output with Keras:\n",
      "[[0.4780753  0.331193  ]\n",
      " [0.47045222 0.31593716]\n",
      " [0.47686294 0.30775213]]\n"
     ]
    }
   ],
   "source": [
    "import numpy as np\n",
    "from keras.models import Sequential\n",
    "from keras.layers import Dense\n",
    "\n",
    "# Input data (a 3x2 matrix)\n",
    "input_data = np.array([[1, 2], [3, 4], [5, 6]])\n",
    "\n",
    "# Define the Keras model\n",
    "model = Sequential()\n",
    "model.add(Dense(units=2, input_dim=2, activation='sigmoid'))\n",
    "model.add(Dense(units=2, activation='sigmoid'))\n",
    "\n",
    "# Compile the model to initialize weights\n",
    "model.compile(optimizer='adam', loss='mse')\n",
    "\n",
    "# Perform the forward pass using Keras\n",
    "output_data = model.predict(input_data)\n",
    "\n",
    "print(\"Output with Keras:\")\n",
    "print(output_data)\n"
   ]
  },
  {
   "cell_type": "code",
   "execution_count": 6,
   "id": "549891b9",
   "metadata": {},
   "outputs": [
    {
     "name": "stdout",
     "output_type": "stream",
     "text": [
      "1/1 [==============================] - 0s 38ms/step\n",
      "Output with hidden layer using Keras:\n",
      "[[0.6180163  0.76407313]\n",
      " [0.6360554  0.7996368 ]\n",
      " [0.6469984  0.81522095]]\n"
     ]
    }
   ],
   "source": [
    "import numpy as np\n",
    "from keras.models import Sequential\n",
    "from keras.layers import Dense\n",
    "\n",
    "# Input data (a 3x2 matrix)\n",
    "input_data = np.array([[1, 2], [3, 4], [5, 6]])\n",
    "\n",
    "# Define the Keras model\n",
    "model = Sequential()\n",
    "\n",
    "# Add a hidden layer with 2 units and input dimension 2, using matrix multiplication\n",
    "model.add(Dense(units=2, input_dim=2, activation='sigmoid'))\n",
    "\n",
    "# Add the output layer with 2 units, also using matrix multiplication\n",
    "model.add(Dense(units=2, activation='sigmoid'))\n",
    "\n",
    "# Compile the model to initialize weights\n",
    "model.compile(optimizer='adam', loss='mse')\n",
    "\n",
    "# Perform the forward pass using Keras\n",
    "output_data = model.predict(input_data)\n",
    "\n",
    "print(\"Output with hidden layer using Keras:\")\n",
    "print(output_data)\n"
   ]
  },
  {
   "cell_type": "markdown",
   "id": "1e10fc6f",
   "metadata": {},
   "source": [
    "<style>\n",
    "    .font12 { font-size: 12px; }\n",
    "</style>\n",
    "\n",
    "<div class=\"font12\">\n",
    "\n",
    "**Conclusion:** \n",
    "Successful Implement Forward pass with matrix multiplication Forward pass with hidden layer Forward pass with matrix multiplication with Keras Forward passes with hidden layer.\n",
    "\n",
    "</div>"
   ]
  }
 ],
 "metadata": {
  "kernelspec": {
   "display_name": "Python 3 (ipykernel)",
   "language": "python",
   "name": "python3"
  },
  "language_info": {
   "codemirror_mode": {
    "name": "ipython",
    "version": 3
   },
   "file_extension": ".py",
   "mimetype": "text/x-python",
   "name": "python",
   "nbconvert_exporter": "python",
   "pygments_lexer": "ipython3",
   "version": "3.9.12"
  }
 },
 "nbformat": 4,
 "nbformat_minor": 5
}
